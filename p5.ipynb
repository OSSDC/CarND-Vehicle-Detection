{
 "cells": [
  {
   "cell_type": "code",
   "execution_count": 1,
   "metadata": {
    "collapsed": true,
    "deletable": true,
    "editable": true
   },
   "outputs": [],
   "source": [
    "import numpy as np\n",
    "import cv2\n",
    "import glob\n",
    "from ipywidgets import interactive, interact\n",
    "import ipywidgets as widgets\n",
    "from IPython.display import display\n",
    "%matplotlib inline\n",
    "import matplotlib.pyplot as plt\n",
    "import matplotlib.image as mpimg\n",
    "from moviepy.editor import VideoFileClip, CompositeVideoClip\n",
    "from IPython.display import HTML\n",
    "import time\n",
    "\n",
    "from sklearn.svm import LinearSVC\n",
    "from sklearn.preprocessing import StandardScaler\n",
    "from skimage.feature import hog\n",
    "\n",
    "from sklearn.model_selection import train_test_split\n"
   ]
  },
  {
   "cell_type": "code",
   "execution_count": 2,
   "metadata": {
    "collapsed": true,
    "deletable": true,
    "editable": true
   },
   "outputs": [],
   "source": [
    "# Read in car and non-car images\n",
    "cars = glob.glob('vehicles/**/*.png', recursive=True)\n",
    "notcars = glob.glob('non-vehicles/**/*.png', recursive=True)\n"
   ]
  },
  {
   "cell_type": "code",
   "execution_count": 3,
   "metadata": {
    "collapsed": false,
    "deletable": true,
    "editable": true
   },
   "outputs": [
    {
     "name": "stdout",
     "output_type": "stream",
     "text": [
      "8792 8968\n"
     ]
    }
   ],
   "source": [
    "print(len(cars), len(notcars))"
   ]
  },
  {
   "cell_type": "code",
   "execution_count": 4,
   "metadata": {
    "collapsed": true,
    "deletable": true,
    "editable": true
   },
   "outputs": [],
   "source": [
    "# Define a function to return HOG features and visualization\n",
    "def get_hog_features(img, orient, pix_per_cell, cell_per_block, vis=False, feature_vec=True):\n",
    "    if vis == True:\n",
    "        features, hog_image = hog(img, orientations=orient, pixels_per_cell=(pix_per_cell, pix_per_cell),\n",
    "                                  cells_per_block=(cell_per_block, cell_per_block), transform_sqrt=False, \n",
    "                                  visualise=True, feature_vector=False)\n",
    "        return features, hog_image\n",
    "    else:      \n",
    "        features = hog(img, orientations=orient, pixels_per_cell=(pix_per_cell, pix_per_cell),\n",
    "                       cells_per_block=(cell_per_block, cell_per_block), transform_sqrt=False, \n",
    "                       visualise=False, feature_vector=feature_vec)\n",
    "        return features"
   ]
  },
  {
   "cell_type": "code",
   "execution_count": 5,
   "metadata": {
    "collapsed": false,
    "deletable": true,
    "editable": true
   },
   "outputs": [],
   "source": [
    "# Define a function to compute binned color features  \n",
    "def bin_spatial(img, size=(32, 32)):\n",
    "    # Use cv2.resize().ravel() to create the feature vector\n",
    "    features = cv2.resize(img, size).ravel() \n",
    "    # Return the feature vector\n",
    "    return features\n",
    "\n",
    "# Define a function to compute color histogram features  \n",
    "def color_hist(img, nbins=32, bins_range=(0, 256)):\n",
    "    # Compute the histogram of the color channels separately\n",
    "    channel1_hist = np.histogram(img[:,:,0], bins=nbins, range=bins_range)\n",
    "    channel2_hist = np.histogram(img[:,:,1], bins=nbins, range=bins_range)\n",
    "    channel3_hist = np.histogram(img[:,:,2], bins=nbins, range=bins_range)\n",
    "    # Concatenate the histograms into a single feature vector\n",
    "    hist_features = np.concatenate((channel1_hist[0], channel2_hist[0], channel3_hist[0]))\n",
    "    # Return the individual histograms, bin_centers and feature vector\n",
    "    return hist_features\n",
    "\n",
    "# Define a function to extract features from a list of images\n",
    "# Have this function call bin_spatial() and color_hist()\n",
    "def extract_features(imgs, colorspace='RGB',\n",
    "                     hog_channel = 'ALL', \n",
    "                     orient = 8, pix_per_cell = 8, cell_per_block = 1, spatial_size=(32, 32),\n",
    "                     hist_bins=32, hist_range=(0, 256), spatial_feat=False, hist_feat=True, hog_feat=True):\n",
    "    # Create a list to append feature vectors to\n",
    "    features = []\n",
    "    # Iterate through the list of images\n",
    "    for file in imgs:\n",
    "        file_features = []\n",
    "        # Read in each one by one, or pass straight if 'file' is really an image\n",
    "        if type(file) is str:\n",
    "            image = mpimg.imread(file)\n",
    "        else:\n",
    "            image = file\n",
    "        image = cv2.resize(image, (64,64))\n",
    "        # apply color conversion if other than 'RGB'\n",
    "        if colorspace != 'RGB':\n",
    "            if colorspace == 'HSV':\n",
    "                feature_image = cv2.cvtColor(image, cv2.COLOR_RGB2HSV)\n",
    "            elif colorspace == 'LUV':\n",
    "                feature_image = cv2.cvtColor(image, cv2.COLOR_RGB2LUV)\n",
    "            elif colorspace == 'HLS':\n",
    "                feature_image = cv2.cvtColor(image, cv2.COLOR_RGB2HLS)\n",
    "            elif colorspace == 'YUV':\n",
    "                feature_image = cv2.cvtColor(image, cv2.COLOR_RGB2YUV)\n",
    "            elif colorspace == 'YCrCb':\n",
    "                feature_image = cv2.cvtColor(image, cv2.COLOR_RGB2YCrCb)\n",
    "        else: feature_image = np.copy(image)      \n",
    "\n",
    "        # Call get_hog_features() with vis=False, feature_vec=True\n",
    "        if hog_feat == True:\n",
    "            if hog_channel == 'ALL':\n",
    "                hog_features = []\n",
    "                for channel in range(feature_image.shape[2]):\n",
    "                    hog_features.append(get_hog_features(feature_image[:,:,channel], \n",
    "                                        orient, pix_per_cell, cell_per_block, \n",
    "                                        vis=False, feature_vec=True))\n",
    "                hog_features = np.ravel(hog_features)        \n",
    "            else:\n",
    "                hog_features = get_hog_features(feature_image[:,:,hog_channel], orient, \n",
    "                            pix_per_cell, cell_per_block, vis=False, feature_vec=True)\n",
    "            file_features.append(hog_features)\n",
    "        if spatial_feat == True:\n",
    "            spatial_features = bin_spatial(feature_image, size=spatial_size)\n",
    "            file_features.append(spatial_features)\n",
    "        if hist_feat == True:\n",
    "            # Apply color_hist()\n",
    "            hist_features = color_hist(feature_image, nbins=hist_bins)\n",
    "            file_features.append(hist_features)\n",
    "\n",
    "        features.append(np.concatenate(file_features))\n",
    "\n",
    "    # Return list of feature vectors\n",
    "    return features\n"
   ]
  },
  {
   "cell_type": "code",
   "execution_count": 6,
   "metadata": {
    "collapsed": false,
    "deletable": true,
    "editable": true
   },
   "outputs": [],
   "source": [
    "def train_svm(colorspace, orient, \n",
    "              pix_per_cell, cell_per_block, \n",
    "              hog_channel, hist_bins, spatial_size):\n",
    "    t=time.time()\n",
    "    car_features = extract_features(cars, colorspace=colorspace, orient=orient, \n",
    "                            pix_per_cell=pix_per_cell, cell_per_block=cell_per_block, \n",
    "                            hog_channel=hog_channel, hist_bins=hist_bins, spatial_size=spatial_size)\n",
    "    notcar_features = extract_features(notcars, colorspace=colorspace, orient=orient, \n",
    "                            pix_per_cell=pix_per_cell, cell_per_block=cell_per_block, \n",
    "                            hog_channel=hog_channel, hist_bins=hist_bins, spatial_size=spatial_size)\n",
    "    t2 = time.time()\n",
    "    print(round(t2-t, 2), 'Seconds to extract HOG features...')\n",
    "    # Create an array stack of feature vectors\n",
    "    X = np.vstack((np.asarray(car_features), np.asarray(notcar_features))).astype(np.float64)                        \n",
    "    # Fit a per-column scaler\n",
    "    X_scaler = StandardScaler().fit(X)\n",
    "    # Apply the scaler to X\n",
    "    scaled_X = X_scaler.transform(X)\n",
    "\n",
    "    # Define the labels vector\n",
    "    y = np.hstack((np.ones(len(car_features)), np.zeros(len(notcar_features))))\n",
    "\n",
    "\n",
    "    # Split up data into randomized training and test sets\n",
    "    rand_state = 0 #np.random.randint(0, 100)\n",
    "    X_train, X_test, y_train, y_test = train_test_split(\n",
    "        scaled_X, y, test_size=0.2, random_state=rand_state)\n",
    "\n",
    "    print('Using:',orient,'orientations',pix_per_cell,\n",
    "          'pixels per cell and', cell_per_block,'cells per block',\n",
    "          'in the', colorspace, 'colorspace using', hog_channel, 'channel(s),', hist_bins,'bins and', spatial_size,'spatial patch')\n",
    "    print('Feature vector length:', len(X_train[0]))\n",
    "    # Use a linear SVC \n",
    "    svc = LinearSVC()\n",
    "    # Check the training time for the SVC\n",
    "    t=time.time()\n",
    "    svc.fit(X_train, y_train)\n",
    "    t2 = time.time()\n",
    "    print(round(t2-t, 2), 'Seconds to train SVC...')\n",
    "    # Check the score of the SVC\n",
    "    acc = svc.score(X_test, y_test)\n",
    "    print('Test Accuracy of SVC = ', round(acc, 4))\n",
    "    # Check the prediction time for a single sample\n",
    "    t=time.time()\n",
    "    n_predict = 10\n",
    "    print('My SVC predicts: ', svc.decision_function(X_test[0:n_predict]))\n",
    "    print('For these',n_predict, 'labels: ', y_test[0:n_predict])\n",
    "    t2 = time.time()\n",
    "    print(round(t2-t, 5), 'Seconds to predict', n_predict,'labels with SVC')\n",
    "    return acc, svc, X_scaler"
   ]
  },
  {
   "cell_type": "code",
   "execution_count": 7,
   "metadata": {
    "collapsed": false,
    "deletable": true,
    "editable": true
   },
   "outputs": [],
   "source": [
    "# Set to True to do an exhaustive (brute-force) search of best paramaters\n",
    "brute_force_search = False\n",
    "\n",
    "if brute_force_search:\n",
    "\n",
    "    from sklearn.grid_search import ParameterGrid\n",
    "\n",
    "    grid = ParameterGrid({\"hog_channel\": ['ALL'],\n",
    "                          \"colorspace\": [\"YUV\", \"YCrCb\" ],\n",
    "                          \"orient\": [9,11,13],\n",
    "                          \"pix_per_cell\": [4,8,16],\n",
    "                          \"cell_per_block\": [2, 3, 4],\n",
    "                          \"hist_bins\" : [8,16,32,64],\n",
    "                          \"spatial_size\": (32,32)\n",
    "                          })\n",
    "\n",
    "    best_acc = 0.\n",
    "    for params in grid:\n",
    "        (cacc, svc, scaler) = train_svm(**params)\n",
    "        if cacc > best_acc:\n",
    "            best_acc    = cacc\n",
    "            best_params = params\n",
    "\n",
    "    print('Best accuracy=', best_acc, 'with params:', params )\n"
   ]
  },
  {
   "cell_type": "code",
   "execution_count": 8,
   "metadata": {
    "collapsed": false,
    "deletable": true,
    "editable": true
   },
   "outputs": [
    {
     "name": "stdout",
     "output_type": "stream",
     "text": [
      "120.56 Seconds to extract HOG features...\n",
      "Using: 9 orientations 8 pixels per cell and 2 cells per block in the YCrCb colorspace using ALL channel(s), 16 bins and (32, 32) spatial patch\n",
      "Feature vector length: 5340\n",
      "22.04 Seconds to train SVC...\n",
      "Test Accuracy of SVC =  0.9778\n",
      "My SVC predicts:  [ 4.9066925   2.151665   -4.20796694  3.24516089  3.16854632 -1.6515071\n",
      "  4.16470908 -5.124301    6.10132179  2.89761682]\n",
      "For these 10 labels:  [ 1.  1.  0.  1.  1.  0.  1.  0.  1.  1.]\n",
      "0.02254 Seconds to predict 10 labels with SVC\n",
      "0.977759009009\n"
     ]
    }
   ],
   "source": [
    "# after ~12 hours of grid search these parameters parameters are a good tradeoff between accuracy and memory/speed.\n",
    "#\n",
    "# 109.23 Seconds to extract HOG features...\n",
    "# Using: 9 orientations 8 pixels per cell and 2 cells per block in the YCrCb colorspace using ALL channel(s) and 16 bins\n",
    "# Feature vector length: 8412\n",
    "# 33.51 Seconds to train SVC...\n",
    "# Test Accuracy of SVC =  0.9896\n",
    "# My SVC predicts:  [ 1.  1.  0.  1.  1.  0.  1.  0.  1.  1.]\n",
    "# For these 10 labels:  [ 1.  1.  0.  1.  1.  0.  1.  0.  1.  1.]\n",
    "# 0.00284 Seconds to predict 10 labels with SVC\n",
    "\n",
    "colorspace = 'YCrCb'\n",
    "orient = 9\n",
    "pix_per_cell = 8\n",
    "cell_per_block = 2\n",
    "hog_channel = 'ALL'\n",
    "hist_bins = 16\n",
    "spatial_size = (32,32)\n",
    "(acc, svc, scaler) = train_svm(\n",
    "    colorspace = colorspace,\n",
    "    orient = orient,\n",
    "    pix_per_cell = pix_per_cell,\n",
    "    cell_per_block = cell_per_block,\n",
    "    hog_channel = hog_channel,\n",
    "    hist_bins = hist_bins,\n",
    "    spatial_size = spatial_size)\n",
    "\n",
    "print(acc)"
   ]
  },
  {
   "cell_type": "code",
   "execution_count": 9,
   "metadata": {
    "collapsed": false
   },
   "outputs": [
    {
     "name": "stdout",
     "output_type": "stream",
     "text": [
      "[ 0.03562216  0.02196572  0.02336477  0.03247833  0.0672657 ]\n",
      "[ 1.  1.  1.  1.  1.  1.  1.  1.  1.  1.  1.  1.  1.  1.  1.  1.]\n",
      "[ 0.0186401   0.02305756  0.02764497 ...,  1.          1.          1.        ]\n",
      "[ 0.03533214  0.01606481  0.01720264  0.02450719  0.06341137]\n",
      "[ 4096.     0.     0.     0.     0.     0.     0.     0.     0.     0.\n",
      "     0.     0.     0.     0.     0.     0.]\n",
      "[ 0.01900883  0.02146595  0.02874803 ...,  0.          0.          0.        ]\n"
     ]
    }
   ],
   "source": [
    "print(scaler.scale_[0:5])\n",
    "print(scaler.scale_[-16:])\n",
    "print(scaler.scale_[-16-(32*32):-16])\n",
    "\n",
    "print(scaler.mean_[0:5])\n",
    "print(scaler.mean_[-16:])\n",
    "print(scaler.mean_[-16-(32*32):-16])"
   ]
  },
  {
   "cell_type": "code",
   "execution_count": 10,
   "metadata": {
    "collapsed": false,
    "deletable": true,
    "editable": true
   },
   "outputs": [
    {
     "data": {
      "text/plain": [
       "<function __main__.detect_cars_interact>"
      ]
     },
     "execution_count": 10,
     "metadata": {},
     "output_type": "execute_result"
    },
    {
     "data": {
      "image/png": "[encoded data removed]",
      "text/plain": [
       "<matplotlib.figure.Figure at 0x1118c6908>"
      ]
     },
     "metadata": {},
     "output_type": "display_data"
    }
   ],
   "source": [
    "# Here is your draw_boxes function from the previous exercise\n",
    "def draw_boxes(img, bboxes, color=(0, 0, 255), thick=6, threshold = 0):\n",
    "    # Make a copy of the image\n",
    "    imcopy = np.copy(img)\n",
    "    # Iterate through the bounding boxes\n",
    "    for bbox in bboxes:\n",
    "        # Draw a rectangle given bbox coordinates\n",
    "        features = extract_features([img[bbox[0][1]:bbox[1][1],bbox[0][0]:bbox[1][0]]], \n",
    "                                    colorspace=colorspace,\n",
    "                                    hog_channel = hog_channel,\n",
    "                                    orient = orient, \n",
    "                                    pix_per_cell = pix_per_cell, \n",
    "                                    cell_per_block = cell_per_block,\n",
    "                                    hist_bins = hist_bins,\n",
    "                                    spatial_size = spatial_size)\n",
    "        feature_scaled = scaler.transform(np.float64(features).reshape(1, -1))\n",
    "        pred = svc.decision_function(feature_scaled)\n",
    "        #print(pred[0])\n",
    "        if pred[0] >= threshold:\n",
    "            cv2.rectangle(imcopy, bbox[0], bbox[1], color, thick)\n",
    "    # Return the image copy with boxes drawn\n",
    "    return imcopy\n",
    "\n",
    "# Define a function that takes an image,\n",
    "# start and stop positions in both x and y, \n",
    "# window size (x and y dimensions),  \n",
    "# and overlap fraction (for both x and y)\n",
    "def slide_window(img, x_start_stop=[None, None], y_start_stop=[None, None], \n",
    "                    xy_window=(64, 64), xy_overlap=(0.5, 0.5)):\n",
    "    # If x and/or y start/stop positions not defined, set to image size\n",
    "    if x_start_stop[0] == None:\n",
    "        x_start_stop[0] = 0\n",
    "    if x_start_stop[1] == None:\n",
    "        x_start_stop[1] = img.shape[1]\n",
    "    if y_start_stop[0] == None:\n",
    "        y_start_stop[0] = 0\n",
    "    if y_start_stop[1] == None:\n",
    "        y_start_stop[1] = img.shape[0]\n",
    "    # Compute the span of the region to be searched    \n",
    "    xspan = x_start_stop[1] - x_start_stop[0]\n",
    "    yspan = y_start_stop[1] - y_start_stop[0]\n",
    "    # Compute the number of pixels per step in x/y\n",
    "    nx_pix_per_step = np.int(xy_window[0]*(1 - xy_overlap[0]))\n",
    "    ny_pix_per_step = np.int(xy_window[1]*(1 - xy_overlap[1]))\n",
    "    # Compute the number of windows in x/y\n",
    "    nx_buffer = np.int(xy_window[0]*(xy_overlap[0]))\n",
    "    ny_buffer = np.int(xy_window[1]*(xy_overlap[1]))\n",
    "    nx_windows = np.int((xspan-nx_buffer)/nx_pix_per_step) \n",
    "    ny_windows = np.int((yspan-ny_buffer)/ny_pix_per_step) \n",
    "    # Initialize a list to append window positions to\n",
    "    window_list = []\n",
    "    # Loop through finding x and y window positions\n",
    "    # Note: you could vectorize this step, but in practice\n",
    "    # you'll be considering windows one by one with your\n",
    "    # classifier, so looping makes sense\n",
    "    for ys in range(ny_windows):\n",
    "        for xs in range(nx_windows):\n",
    "            # Calculate window position\n",
    "            startx = xs*nx_pix_per_step + x_start_stop[0]\n",
    "            endx = startx + xy_window[0]\n",
    "            starty = ys*ny_pix_per_step + y_start_stop[0]\n",
    "            endy = starty + xy_window[1]\n",
    "            # Append window position to list\n",
    "            window_list.append(((startx, starty), (endx, endy)))\n",
    "    # Return the list of windows\n",
    "    return window_list\n",
    "\n",
    "def detect_cars(image, threshold):\n",
    "    windows = slide_window(image, x_start_stop=[None, None], y_start_stop=[None, None], \n",
    "                    xy_window=(128, 128), xy_overlap=(0.90, 0.90))\n",
    "                       \n",
    "    window_img = draw_boxes(image, windows, color=(0, 0, 255), thick=6, threshold = threshold)                    \n",
    "    #plt.imshow(window_img)\n",
    "    return window_img\n",
    "\n",
    "def detect_cars_interact(fname, threshold):\n",
    "    image = mpimg.imread(fname)\n",
    "    plt.imshow(detect_cars(image, threshold))\n",
    "    return\n",
    "\n",
    "\n",
    "interact(detect_cars_interact, \n",
    "         fname=glob.glob('test_images/*.jpg'), \n",
    "         threshold = widgets.FloatSlider(min = -5., max=5))\n"
   ]
  },
  {
   "cell_type": "code",
   "execution_count": 16,
   "metadata": {
    "collapsed": false,
    "deletable": true,
    "editable": true
   },
   "outputs": [
    {
     "data": {
      "image/png": "[encoded data removed]",
      "text/plain": [
       "<matplotlib.figure.Figure at 0x101ded438>"
      ]
     },
     "metadata": {},
     "output_type": "display_data"
    }
   ],
   "source": [
    "# Define a single function that can extract features using hog sub-sampling and make predictions\n",
    "def find_cars(img, ystart, ystop, scales, svc, X_scaler, orient, pix_per_cell, cell_per_block, spatial_size, hist_bins, threshold = 0, debug_windows=False):\n",
    "    \n",
    "    draw_img = np.copy(img)\n",
    "    img = img.astype(np.float32)/255\n",
    "    \n",
    "    img_tosearch = img[ystart:ystop,:,:]\n",
    "    ctrans_tosearch_orig = cv2.cvtColor(img_tosearch, cv2.COLOR_RGB2YCrCb)\n",
    "    \n",
    "    maxscale = max(scales)\n",
    "\n",
    "    def heatmap(scale):\n",
    "        draw_img = np.zeros_like(img, dtype=np.uint8)\n",
    "        if scale != 1.:\n",
    "            imshape = ctrans_tosearch_orig.shape\n",
    "            ctrans_tosearch = cv2.resize(ctrans_tosearch_orig, (np.int(imshape[1]/scale), np.int(imshape[0]/scale)))\n",
    "        else:\n",
    "            ctrans_tosearch = ctrans_tosearch_orig\n",
    "\n",
    "        ch1 = ctrans_tosearch[:,:,0]\n",
    "        ch2 = ctrans_tosearch[:,:,1]\n",
    "        ch3 = ctrans_tosearch[:,:,2]\n",
    "\n",
    "        # Compute individual channel HOG features for the entire image\n",
    "        hog1 = get_hog_features(ch1, orient, pix_per_cell, cell_per_block, feature_vec=False)\n",
    "        hog2 = get_hog_features(ch2, orient, pix_per_cell, cell_per_block, feature_vec=False)\n",
    "        hog3 = get_hog_features(ch3, orient, pix_per_cell, cell_per_block, feature_vec=False)\n",
    "\n",
    "        # Define blocks and steps as above\n",
    "        nxblocks = (ch1.shape[1] // pix_per_cell)-1\n",
    "        nyblocks = (ch1.shape[0] // pix_per_cell)-1 \n",
    "        nfeat_per_block = orient*cell_per_block**2\n",
    "        # 64 was the original sampling rate, with 8 cells and 8 pix per cell\n",
    "        window = 64\n",
    "        nblocks_per_window = (window // pix_per_cell)-1 \n",
    "        cells_per_step = 0.5 * maxscale / scale  # Instead of overlap, define how many cells to step\n",
    "        nxsteps = int((nxblocks - nblocks_per_window) / (cells_per_step ))\n",
    "        nysteps = int((nyblocks - nblocks_per_window) / (cells_per_step ))\n",
    "\n",
    "        for xb in range(nxsteps):\n",
    "            for yb in range(nysteps):\n",
    "                ypos = int(yb*cells_per_step)\n",
    "                xpos = int(xb*cells_per_step)\n",
    "                # Extract HOG for this patch\n",
    "                hog_feat1 = hog1[ypos:ypos+nblocks_per_window, xpos:xpos+nblocks_per_window].ravel() \n",
    "                hog_feat2 = hog2[ypos:ypos+nblocks_per_window, xpos:xpos+nblocks_per_window].ravel() \n",
    "                hog_feat3 = hog3[ypos:ypos+nblocks_per_window, xpos:xpos+nblocks_per_window].ravel() \n",
    "                hog_features = np.hstack((hog_feat1, hog_feat2, hog_feat3))\n",
    "\n",
    "                xleft = xpos*pix_per_cell\n",
    "                ytop = ypos*pix_per_cell\n",
    "\n",
    "                # Extract the image patch\n",
    "                subimg = cv2.resize(ctrans_tosearch[ytop:ytop+window, xleft:xleft+window], (64,64))\n",
    "\n",
    "                # Get color features\n",
    "                spatial_features = []#bin_spatial(subimg, size=spatial_size)\n",
    "                hist_features = color_hist(subimg, nbins=hist_bins)\n",
    "\n",
    "                # Scale features and make a prediction\n",
    "                test_features = X_scaler.transform(np.hstack((hog_features, spatial_features, hist_features )).reshape(1, -1))    \n",
    "                #test_features = X_scaler.transform(np.hstack((shape_feat, hist_feat)).reshape(1, -1))    \n",
    "                test_prediction = svc.decision_function(test_features)\n",
    "\n",
    "                if (test_prediction >= threshold) & (debug_windows == False):\n",
    "                    xbox_left = np.int(xleft*scale)\n",
    "                    ytop_draw = np.int(ytop*scale)\n",
    "                    win_draw = np.int(window*scale)\n",
    "                    rec = np.zeros_like(draw_img)\n",
    "                    draw_img[ytop_draw+ystart:ytop_draw+win_draw+ystart,xbox_left:xbox_left+win_draw,0] = \\\n",
    "                        cv2.add(draw_img[ytop_draw+ystart:ytop_draw+win_draw+ystart,xbox_left:xbox_left+win_draw,0], 50)\n",
    "                    cv2.rectangle(draw_img,(xbox_left, ytop_draw+ystart),(xbox_left+win_draw,ytop_draw+win_draw+ystart),(0,0,255),6) \n",
    "\n",
    "                if (debug_windows == True) & (xb < 10):\n",
    "                    xbox_left = np.int(xleft*scale)\n",
    "                    ytop_draw = np.int(ytop*scale)\n",
    "                    win_draw = np.int(window*scale)\n",
    "                    cv2.rectangle(draw_img,(xbox_left, ytop_draw+ystart),(xbox_left+win_draw,ytop_draw+win_draw+ystart),(0,0,255),6) \n",
    "\n",
    "        return draw_img\n",
    "    \n",
    "    heats = []\n",
    "    if multithread == False:\n",
    "        for scale in scales:\n",
    "            heats.append(heatmap(scale))\n",
    "    else:\n",
    "        from multiprocessing.dummy import Pool as ThreadPool \n",
    "        from multiprocessing import cpu_count\n",
    "\n",
    "        pool = ThreadPool(2)#cpu_count())\n",
    "        heats = pool.map(heatmap, scales)\n",
    "        pool.close()\n",
    "        pool.join()\n",
    "\n",
    "    \n",
    "    for heat in heats:\n",
    "        draw_img = cv2.add(draw_img, heat)\n",
    "        \n",
    "    return draw_img\n",
    "    \n",
    "ystart = 400\n",
    "ystop = 656\n",
    "scale = [1,1.25,1.5,2,3]\n",
    "multithread = False\n",
    "    \n",
    "def find_cars_interact(fname, threshold):\n",
    "    img = mpimg.imread(fname)\n",
    "    out_img = find_cars(img, ystart, ystop, scale, svc, scaler, \n",
    "                        orient, pix_per_cell, cell_per_block, spatial_size, \n",
    "                        hist_bins, \n",
    "                        threshold = threshold,\n",
    "                        debug_windows = False)\n",
    "    plt.imshow(out_img)\n",
    "\n",
    "params = interactive(find_cars_interact, \n",
    "         fname=glob.glob('test_images/*.jpg'),\n",
    "         threshold = widgets.FloatSlider(min = -5., max=5, value = 1.7))\n",
    "\n",
    "params\n",
    "\n"
   ]
  },
  {
   "cell_type": "code",
   "execution_count": 17,
   "metadata": {
    "collapsed": false,
    "deletable": true,
    "editable": true
   },
   "outputs": [
    {
     "name": "stdout",
     "output_type": "stream",
     "text": [
      "[MoviePy] >>>> Building video ./project_video_out.mp4\n",
      "[MoviePy] Writing video ./project_video_out.mp4\n"
     ]
    },
    {
     "name": "stderr",
     "output_type": "stream",
     "text": [
      "\n",
      "\n",
      "  0%|          | 0/1261 [00:00<?, ?it/s]\u001b[A\u001b[A\n",
      "\n",
      "  0%|          | 1/1261 [00:05<2:01:44,  5.80s/it]\u001b[A\u001b[A\n",
      "\n",
      "  0%|          | 2/1261 [00:12<2:06:34,  6.03s/it]\u001b[A\u001b[A"
     ]
    },
    {
     "ename": "KeyboardInterrupt",
     "evalue": "",
     "output_type": "error",
     "traceback": [
      "\u001b[0;31m---------------------------------------------------------------------------\u001b[0m",
      "\u001b[0;31mKeyboardInterrupt\u001b[0m                         Traceback (most recent call last)",
      "\u001b[0;32m<ipython-input-17-77c4d7d854b1>\u001b[0m in \u001b[0;36m<module>\u001b[0;34m()\u001b[0m\n\u001b[1;32m     11\u001b[0m \u001b[0mclip\u001b[0m \u001b[0;34m=\u001b[0m \u001b[0mVideoFileClip\u001b[0m\u001b[0;34m(\u001b[0m\u001b[0;34m\"./project_video.mp4\"\u001b[0m\u001b[0;34m)\u001b[0m\u001b[0;31m#.subclip(7,10)\u001b[0m\u001b[0;34m\u001b[0m\u001b[0m\n\u001b[1;32m     12\u001b[0m \u001b[0mdetected\u001b[0m   \u001b[0;34m=\u001b[0m \u001b[0mclip\u001b[0m\u001b[0;34m.\u001b[0m\u001b[0mfl_image\u001b[0m\u001b[0;34m(\u001b[0m\u001b[0mfind_cars_fl\u001b[0m\u001b[0;34m)\u001b[0m\u001b[0;34m\u001b[0m\u001b[0m\n\u001b[0;32m---> 13\u001b[0;31m \u001b[0mget_ipython\u001b[0m\u001b[0;34m(\u001b[0m\u001b[0;34m)\u001b[0m\u001b[0;34m.\u001b[0m\u001b[0mmagic\u001b[0m\u001b[0;34m(\u001b[0m\u001b[0;34m'time detected.write_videofile(output, audio=False)'\u001b[0m\u001b[0;34m)\u001b[0m\u001b[0;34m\u001b[0m\u001b[0m\n\u001b[0m",
      "\u001b[0;32m/Users/antor/anaconda/envs/carnd-term1/lib/python3.5/site-packages/IPython/core/interactiveshell.py\u001b[0m in \u001b[0;36mmagic\u001b[0;34m(self, arg_s)\u001b[0m\n\u001b[1;32m   2156\u001b[0m         \u001b[0mmagic_name\u001b[0m\u001b[0;34m,\u001b[0m \u001b[0m_\u001b[0m\u001b[0;34m,\u001b[0m \u001b[0mmagic_arg_s\u001b[0m \u001b[0;34m=\u001b[0m \u001b[0marg_s\u001b[0m\u001b[0;34m.\u001b[0m\u001b[0mpartition\u001b[0m\u001b[0;34m(\u001b[0m\u001b[0;34m' '\u001b[0m\u001b[0;34m)\u001b[0m\u001b[0;34m\u001b[0m\u001b[0m\n\u001b[1;32m   2157\u001b[0m         \u001b[0mmagic_name\u001b[0m \u001b[0;34m=\u001b[0m \u001b[0mmagic_name\u001b[0m\u001b[0;34m.\u001b[0m\u001b[0mlstrip\u001b[0m\u001b[0;34m(\u001b[0m\u001b[0mprefilter\u001b[0m\u001b[0;34m.\u001b[0m\u001b[0mESC_MAGIC\u001b[0m\u001b[0;34m)\u001b[0m\u001b[0;34m\u001b[0m\u001b[0m\n\u001b[0;32m-> 2158\u001b[0;31m         \u001b[0;32mreturn\u001b[0m \u001b[0mself\u001b[0m\u001b[0;34m.\u001b[0m\u001b[0mrun_line_magic\u001b[0m\u001b[0;34m(\u001b[0m\u001b[0mmagic_name\u001b[0m\u001b[0;34m,\u001b[0m \u001b[0mmagic_arg_s\u001b[0m\u001b[0;34m)\u001b[0m\u001b[0;34m\u001b[0m\u001b[0m\n\u001b[0m\u001b[1;32m   2159\u001b[0m \u001b[0;34m\u001b[0m\u001b[0m\n\u001b[1;32m   2160\u001b[0m     \u001b[0;31m#-------------------------------------------------------------------------\u001b[0m\u001b[0;34m\u001b[0m\u001b[0;34m\u001b[0m\u001b[0m\n",
      "\u001b[0;32m/Users/antor/anaconda/envs/carnd-term1/lib/python3.5/site-packages/IPython/core/interactiveshell.py\u001b[0m in \u001b[0;36mrun_line_magic\u001b[0;34m(self, magic_name, line)\u001b[0m\n\u001b[1;32m   2077\u001b[0m                 \u001b[0mkwargs\u001b[0m\u001b[0;34m[\u001b[0m\u001b[0;34m'local_ns'\u001b[0m\u001b[0;34m]\u001b[0m \u001b[0;34m=\u001b[0m \u001b[0msys\u001b[0m\u001b[0;34m.\u001b[0m\u001b[0m_getframe\u001b[0m\u001b[0;34m(\u001b[0m\u001b[0mstack_depth\u001b[0m\u001b[0;34m)\u001b[0m\u001b[0;34m.\u001b[0m\u001b[0mf_locals\u001b[0m\u001b[0;34m\u001b[0m\u001b[0m\n\u001b[1;32m   2078\u001b[0m             \u001b[0;32mwith\u001b[0m \u001b[0mself\u001b[0m\u001b[0;34m.\u001b[0m\u001b[0mbuiltin_trap\u001b[0m\u001b[0;34m:\u001b[0m\u001b[0;34m\u001b[0m\u001b[0m\n\u001b[0;32m-> 2079\u001b[0;31m                 \u001b[0mresult\u001b[0m \u001b[0;34m=\u001b[0m \u001b[0mfn\u001b[0m\u001b[0;34m(\u001b[0m\u001b[0;34m*\u001b[0m\u001b[0margs\u001b[0m\u001b[0;34m,\u001b[0m\u001b[0;34m**\u001b[0m\u001b[0mkwargs\u001b[0m\u001b[0;34m)\u001b[0m\u001b[0;34m\u001b[0m\u001b[0m\n\u001b[0m\u001b[1;32m   2080\u001b[0m             \u001b[0;32mreturn\u001b[0m \u001b[0mresult\u001b[0m\u001b[0;34m\u001b[0m\u001b[0m\n\u001b[1;32m   2081\u001b[0m \u001b[0;34m\u001b[0m\u001b[0m\n",
      "\u001b[0;32m<decorator-gen-59>\u001b[0m in \u001b[0;36mtime\u001b[0;34m(self, line, cell, local_ns)\u001b[0m\n",
      "\u001b[0;32m/Users/antor/anaconda/envs/carnd-term1/lib/python3.5/site-packages/IPython/core/magic.py\u001b[0m in \u001b[0;36m<lambda>\u001b[0;34m(f, *a, **k)\u001b[0m\n\u001b[1;32m    186\u001b[0m     \u001b[0;31m# but it's overkill for just that one bit of state.\u001b[0m\u001b[0;34m\u001b[0m\u001b[0;34m\u001b[0m\u001b[0m\n\u001b[1;32m    187\u001b[0m     \u001b[0;32mdef\u001b[0m \u001b[0mmagic_deco\u001b[0m\u001b[0;34m(\u001b[0m\u001b[0marg\u001b[0m\u001b[0;34m)\u001b[0m\u001b[0;34m:\u001b[0m\u001b[0;34m\u001b[0m\u001b[0m\n\u001b[0;32m--> 188\u001b[0;31m         \u001b[0mcall\u001b[0m \u001b[0;34m=\u001b[0m \u001b[0;32mlambda\u001b[0m \u001b[0mf\u001b[0m\u001b[0;34m,\u001b[0m \u001b[0;34m*\u001b[0m\u001b[0ma\u001b[0m\u001b[0;34m,\u001b[0m \u001b[0;34m**\u001b[0m\u001b[0mk\u001b[0m\u001b[0;34m:\u001b[0m \u001b[0mf\u001b[0m\u001b[0;34m(\u001b[0m\u001b[0;34m*\u001b[0m\u001b[0ma\u001b[0m\u001b[0;34m,\u001b[0m \u001b[0;34m**\u001b[0m\u001b[0mk\u001b[0m\u001b[0;34m)\u001b[0m\u001b[0;34m\u001b[0m\u001b[0m\n\u001b[0m\u001b[1;32m    189\u001b[0m \u001b[0;34m\u001b[0m\u001b[0m\n\u001b[1;32m    190\u001b[0m         \u001b[0;32mif\u001b[0m \u001b[0mcallable\u001b[0m\u001b[0;34m(\u001b[0m\u001b[0marg\u001b[0m\u001b[0;34m)\u001b[0m\u001b[0;34m:\u001b[0m\u001b[0;34m\u001b[0m\u001b[0m\n",
      "\u001b[0;32m/Users/antor/anaconda/envs/carnd-term1/lib/python3.5/site-packages/IPython/core/magics/execution.py\u001b[0m in \u001b[0;36mtime\u001b[0;34m(self, line, cell, local_ns)\u001b[0m\n\u001b[1;32m   1179\u001b[0m         \u001b[0;32mif\u001b[0m \u001b[0mmode\u001b[0m\u001b[0;34m==\u001b[0m\u001b[0;34m'eval'\u001b[0m\u001b[0;34m:\u001b[0m\u001b[0;34m\u001b[0m\u001b[0m\n\u001b[1;32m   1180\u001b[0m             \u001b[0mst\u001b[0m \u001b[0;34m=\u001b[0m \u001b[0mclock2\u001b[0m\u001b[0;34m(\u001b[0m\u001b[0;34m)\u001b[0m\u001b[0;34m\u001b[0m\u001b[0m\n\u001b[0;32m-> 1181\u001b[0;31m             \u001b[0mout\u001b[0m \u001b[0;34m=\u001b[0m \u001b[0meval\u001b[0m\u001b[0;34m(\u001b[0m\u001b[0mcode\u001b[0m\u001b[0;34m,\u001b[0m \u001b[0mglob\u001b[0m\u001b[0;34m,\u001b[0m \u001b[0mlocal_ns\u001b[0m\u001b[0;34m)\u001b[0m\u001b[0;34m\u001b[0m\u001b[0m\n\u001b[0m\u001b[1;32m   1182\u001b[0m             \u001b[0mend\u001b[0m \u001b[0;34m=\u001b[0m \u001b[0mclock2\u001b[0m\u001b[0;34m(\u001b[0m\u001b[0;34m)\u001b[0m\u001b[0;34m\u001b[0m\u001b[0m\n\u001b[1;32m   1183\u001b[0m         \u001b[0;32melse\u001b[0m\u001b[0;34m:\u001b[0m\u001b[0;34m\u001b[0m\u001b[0m\n",
      "\u001b[0;32m<timed eval>\u001b[0m in \u001b[0;36m<module>\u001b[0;34m()\u001b[0m\n",
      "\u001b[0;32m<decorator-gen-172>\u001b[0m in \u001b[0;36mwrite_videofile\u001b[0;34m(self, filename, fps, codec, bitrate, audio, audio_fps, preset, audio_nbytes, audio_codec, audio_bitrate, audio_bufsize, temp_audiofile, rewrite_audio, remove_temp, write_logfile, verbose, threads, ffmpeg_params)\u001b[0m\n",
      "\u001b[0;32m/Users/antor/anaconda/envs/carnd-term1/lib/python3.5/site-packages/moviepy/decorators.py\u001b[0m in \u001b[0;36mrequires_duration\u001b[0;34m(f, clip, *a, **k)\u001b[0m\n\u001b[1;32m     52\u001b[0m         \u001b[0;32mraise\u001b[0m \u001b[0mValueError\u001b[0m\u001b[0;34m(\u001b[0m\u001b[0;34m\"Attribute 'duration' not set\"\u001b[0m\u001b[0;34m)\u001b[0m\u001b[0;34m\u001b[0m\u001b[0m\n\u001b[1;32m     53\u001b[0m     \u001b[0;32melse\u001b[0m\u001b[0;34m:\u001b[0m\u001b[0;34m\u001b[0m\u001b[0m\n\u001b[0;32m---> 54\u001b[0;31m         \u001b[0;32mreturn\u001b[0m \u001b[0mf\u001b[0m\u001b[0;34m(\u001b[0m\u001b[0mclip\u001b[0m\u001b[0;34m,\u001b[0m \u001b[0;34m*\u001b[0m\u001b[0ma\u001b[0m\u001b[0;34m,\u001b[0m \u001b[0;34m**\u001b[0m\u001b[0mk\u001b[0m\u001b[0;34m)\u001b[0m\u001b[0;34m\u001b[0m\u001b[0m\n\u001b[0m\u001b[1;32m     55\u001b[0m \u001b[0;34m\u001b[0m\u001b[0m\n\u001b[1;32m     56\u001b[0m \u001b[0;34m\u001b[0m\u001b[0m\n",
      "\u001b[0;32m<decorator-gen-171>\u001b[0m in \u001b[0;36mwrite_videofile\u001b[0;34m(self, filename, fps, codec, bitrate, audio, audio_fps, preset, audio_nbytes, audio_codec, audio_bitrate, audio_bufsize, temp_audiofile, rewrite_audio, remove_temp, write_logfile, verbose, threads, ffmpeg_params)\u001b[0m\n",
      "\u001b[0;32m/Users/antor/anaconda/envs/carnd-term1/lib/python3.5/site-packages/moviepy/decorators.py\u001b[0m in \u001b[0;36muse_clip_fps_by_default\u001b[0;34m(f, clip, *a, **k)\u001b[0m\n\u001b[1;32m    135\u001b[0m              for (k,v) in k.items()}\n\u001b[1;32m    136\u001b[0m \u001b[0;34m\u001b[0m\u001b[0m\n\u001b[0;32m--> 137\u001b[0;31m     \u001b[0;32mreturn\u001b[0m \u001b[0mf\u001b[0m\u001b[0;34m(\u001b[0m\u001b[0mclip\u001b[0m\u001b[0;34m,\u001b[0m \u001b[0;34m*\u001b[0m\u001b[0mnew_a\u001b[0m\u001b[0;34m,\u001b[0m \u001b[0;34m**\u001b[0m\u001b[0mnew_kw\u001b[0m\u001b[0;34m)\u001b[0m\u001b[0;34m\u001b[0m\u001b[0m\n\u001b[0m",
      "\u001b[0;32m<decorator-gen-170>\u001b[0m in \u001b[0;36mwrite_videofile\u001b[0;34m(self, filename, fps, codec, bitrate, audio, audio_fps, preset, audio_nbytes, audio_codec, audio_bitrate, audio_bufsize, temp_audiofile, rewrite_audio, remove_temp, write_logfile, verbose, threads, ffmpeg_params)\u001b[0m\n",
      "\u001b[0;32m/Users/antor/anaconda/envs/carnd-term1/lib/python3.5/site-packages/moviepy/decorators.py\u001b[0m in \u001b[0;36mconvert_masks_to_RGB\u001b[0;34m(f, clip, *a, **k)\u001b[0m\n\u001b[1;32m     20\u001b[0m     \u001b[0;32mif\u001b[0m \u001b[0mclip\u001b[0m\u001b[0;34m.\u001b[0m\u001b[0mismask\u001b[0m\u001b[0;34m:\u001b[0m\u001b[0;34m\u001b[0m\u001b[0m\n\u001b[1;32m     21\u001b[0m         \u001b[0mclip\u001b[0m \u001b[0;34m=\u001b[0m \u001b[0mclip\u001b[0m\u001b[0;34m.\u001b[0m\u001b[0mto_RGB\u001b[0m\u001b[0;34m(\u001b[0m\u001b[0;34m)\u001b[0m\u001b[0;34m\u001b[0m\u001b[0m\n\u001b[0;32m---> 22\u001b[0;31m     \u001b[0;32mreturn\u001b[0m \u001b[0mf\u001b[0m\u001b[0;34m(\u001b[0m\u001b[0mclip\u001b[0m\u001b[0;34m,\u001b[0m \u001b[0;34m*\u001b[0m\u001b[0ma\u001b[0m\u001b[0;34m,\u001b[0m \u001b[0;34m**\u001b[0m\u001b[0mk\u001b[0m\u001b[0;34m)\u001b[0m\u001b[0;34m\u001b[0m\u001b[0m\n\u001b[0m\u001b[1;32m     23\u001b[0m \u001b[0;34m\u001b[0m\u001b[0m\n\u001b[1;32m     24\u001b[0m \u001b[0;34m@\u001b[0m\u001b[0mdecorator\u001b[0m\u001b[0;34m.\u001b[0m\u001b[0mdecorator\u001b[0m\u001b[0;34m\u001b[0m\u001b[0m\n",
      "\u001b[0;32m/Users/antor/anaconda/envs/carnd-term1/lib/python3.5/site-packages/moviepy/video/VideoClip.py\u001b[0m in \u001b[0;36mwrite_videofile\u001b[0;34m(self, filename, fps, codec, bitrate, audio, audio_fps, preset, audio_nbytes, audio_codec, audio_bitrate, audio_bufsize, temp_audiofile, rewrite_audio, remove_temp, write_logfile, verbose, threads, ffmpeg_params)\u001b[0m\n\u001b[1;32m    336\u001b[0m                            \u001b[0maudiofile\u001b[0m \u001b[0;34m=\u001b[0m \u001b[0maudiofile\u001b[0m\u001b[0;34m,\u001b[0m\u001b[0;34m\u001b[0m\u001b[0m\n\u001b[1;32m    337\u001b[0m                            \u001b[0mverbose\u001b[0m\u001b[0;34m=\u001b[0m\u001b[0mverbose\u001b[0m\u001b[0;34m,\u001b[0m \u001b[0mthreads\u001b[0m\u001b[0;34m=\u001b[0m\u001b[0mthreads\u001b[0m\u001b[0;34m,\u001b[0m\u001b[0;34m\u001b[0m\u001b[0m\n\u001b[0;32m--> 338\u001b[0;31m                            ffmpeg_params=ffmpeg_params)\n\u001b[0m\u001b[1;32m    339\u001b[0m \u001b[0;34m\u001b[0m\u001b[0m\n\u001b[1;32m    340\u001b[0m         \u001b[0;32mif\u001b[0m \u001b[0mremove_temp\u001b[0m \u001b[0;32mand\u001b[0m \u001b[0mmake_audio\u001b[0m\u001b[0;34m:\u001b[0m\u001b[0;34m\u001b[0m\u001b[0m\n",
      "\u001b[0;32m/Users/antor/anaconda/envs/carnd-term1/lib/python3.5/site-packages/moviepy/video/io/ffmpeg_writer.py\u001b[0m in \u001b[0;36mffmpeg_write_video\u001b[0;34m(clip, filename, fps, codec, bitrate, preset, withmask, write_logfile, audiofile, verbose, threads, ffmpeg_params)\u001b[0m\n\u001b[1;32m    214\u001b[0m \u001b[0;34m\u001b[0m\u001b[0m\n\u001b[1;32m    215\u001b[0m     for t,frame in clip.iter_frames(progress_bar=True, with_times=True,\n\u001b[0;32m--> 216\u001b[0;31m                                     fps=fps, dtype=\"uint8\"):\n\u001b[0m\u001b[1;32m    217\u001b[0m         \u001b[0;32mif\u001b[0m \u001b[0mwithmask\u001b[0m\u001b[0;34m:\u001b[0m\u001b[0;34m\u001b[0m\u001b[0m\n\u001b[1;32m    218\u001b[0m             \u001b[0mmask\u001b[0m \u001b[0;34m=\u001b[0m \u001b[0;34m(\u001b[0m\u001b[0;36m255\u001b[0m\u001b[0;34m*\u001b[0m\u001b[0mclip\u001b[0m\u001b[0;34m.\u001b[0m\u001b[0mmask\u001b[0m\u001b[0;34m.\u001b[0m\u001b[0mget_frame\u001b[0m\u001b[0;34m(\u001b[0m\u001b[0mt\u001b[0m\u001b[0;34m)\u001b[0m\u001b[0;34m)\u001b[0m\u001b[0;34m\u001b[0m\u001b[0m\n",
      "\u001b[0;32m/Users/antor/anaconda/envs/carnd-term1/lib/python3.5/site-packages/tqdm/_tqdm.py\u001b[0m in \u001b[0;36m__iter__\u001b[0;34m(self)\u001b[0m\n\u001b[1;32m    831\u001b[0m \"\"\", fp_write=getattr(self.fp, 'write', sys.stderr.write))\n\u001b[1;32m    832\u001b[0m \u001b[0;34m\u001b[0m\u001b[0m\n\u001b[0;32m--> 833\u001b[0;31m             \u001b[0;32mfor\u001b[0m \u001b[0mobj\u001b[0m \u001b[0;32min\u001b[0m \u001b[0miterable\u001b[0m\u001b[0;34m:\u001b[0m\u001b[0;34m\u001b[0m\u001b[0m\n\u001b[0m\u001b[1;32m    834\u001b[0m                 \u001b[0;32myield\u001b[0m \u001b[0mobj\u001b[0m\u001b[0;34m\u001b[0m\u001b[0m\n\u001b[1;32m    835\u001b[0m                 \u001b[0;31m# Update and print the progressbar.\u001b[0m\u001b[0;34m\u001b[0m\u001b[0;34m\u001b[0m\u001b[0m\n",
      "\u001b[0;32m/Users/antor/anaconda/envs/carnd-term1/lib/python3.5/site-packages/moviepy/Clip.py\u001b[0m in \u001b[0;36mgenerator\u001b[0;34m()\u001b[0m\n\u001b[1;32m    471\u001b[0m             \u001b[0;32mfor\u001b[0m \u001b[0mt\u001b[0m \u001b[0;32min\u001b[0m \u001b[0mnp\u001b[0m\u001b[0;34m.\u001b[0m\u001b[0marange\u001b[0m\u001b[0;34m(\u001b[0m\u001b[0;36m0\u001b[0m\u001b[0;34m,\u001b[0m \u001b[0mself\u001b[0m\u001b[0;34m.\u001b[0m\u001b[0mduration\u001b[0m\u001b[0;34m,\u001b[0m \u001b[0;36m1.0\u001b[0m\u001b[0;34m/\u001b[0m\u001b[0mfps\u001b[0m\u001b[0;34m)\u001b[0m\u001b[0;34m:\u001b[0m\u001b[0;34m\u001b[0m\u001b[0m\n\u001b[1;32m    472\u001b[0m \u001b[0;34m\u001b[0m\u001b[0m\n\u001b[0;32m--> 473\u001b[0;31m                 \u001b[0mframe\u001b[0m \u001b[0;34m=\u001b[0m \u001b[0mself\u001b[0m\u001b[0;34m.\u001b[0m\u001b[0mget_frame\u001b[0m\u001b[0;34m(\u001b[0m\u001b[0mt\u001b[0m\u001b[0;34m)\u001b[0m\u001b[0;34m\u001b[0m\u001b[0m\n\u001b[0m\u001b[1;32m    474\u001b[0m \u001b[0;34m\u001b[0m\u001b[0m\n\u001b[1;32m    475\u001b[0m                 \u001b[0;32mif\u001b[0m \u001b[0;34m(\u001b[0m\u001b[0mdtype\u001b[0m \u001b[0;32mis\u001b[0m \u001b[0;32mnot\u001b[0m \u001b[0;32mNone\u001b[0m\u001b[0;34m)\u001b[0m \u001b[0;32mand\u001b[0m \u001b[0;34m(\u001b[0m\u001b[0mframe\u001b[0m\u001b[0;34m.\u001b[0m\u001b[0mdtype\u001b[0m \u001b[0;34m!=\u001b[0m \u001b[0mdtype\u001b[0m\u001b[0;34m)\u001b[0m\u001b[0;34m:\u001b[0m\u001b[0;34m\u001b[0m\u001b[0m\n",
      "\u001b[0;32m<decorator-gen-135>\u001b[0m in \u001b[0;36mget_frame\u001b[0;34m(self, t)\u001b[0m\n",
      "\u001b[0;32m/Users/antor/anaconda/envs/carnd-term1/lib/python3.5/site-packages/moviepy/decorators.py\u001b[0m in \u001b[0;36mwrapper\u001b[0;34m(f, *a, **kw)\u001b[0m\n\u001b[1;32m     87\u001b[0m         new_kw = {k: fun(v) if k in varnames else v\n\u001b[1;32m     88\u001b[0m                  for (k,v) in kw.items()}\n\u001b[0;32m---> 89\u001b[0;31m         \u001b[0;32mreturn\u001b[0m \u001b[0mf\u001b[0m\u001b[0;34m(\u001b[0m\u001b[0;34m*\u001b[0m\u001b[0mnew_a\u001b[0m\u001b[0;34m,\u001b[0m \u001b[0;34m**\u001b[0m\u001b[0mnew_kw\u001b[0m\u001b[0;34m)\u001b[0m\u001b[0;34m\u001b[0m\u001b[0m\n\u001b[0m\u001b[1;32m     90\u001b[0m     \u001b[0;32mreturn\u001b[0m \u001b[0mdecorator\u001b[0m\u001b[0;34m.\u001b[0m\u001b[0mdecorator\u001b[0m\u001b[0;34m(\u001b[0m\u001b[0mwrapper\u001b[0m\u001b[0;34m)\u001b[0m\u001b[0;34m\u001b[0m\u001b[0m\n\u001b[1;32m     91\u001b[0m \u001b[0;34m\u001b[0m\u001b[0m\n",
      "\u001b[0;32m/Users/antor/anaconda/envs/carnd-term1/lib/python3.5/site-packages/moviepy/Clip.py\u001b[0m in \u001b[0;36mget_frame\u001b[0;34m(self, t)\u001b[0m\n\u001b[1;32m     93\u001b[0m                 \u001b[0;32mreturn\u001b[0m \u001b[0mframe\u001b[0m\u001b[0;34m\u001b[0m\u001b[0m\n\u001b[1;32m     94\u001b[0m         \u001b[0;32melse\u001b[0m\u001b[0;34m:\u001b[0m\u001b[0;34m\u001b[0m\u001b[0m\n\u001b[0;32m---> 95\u001b[0;31m             \u001b[0;32mreturn\u001b[0m \u001b[0mself\u001b[0m\u001b[0;34m.\u001b[0m\u001b[0mmake_frame\u001b[0m\u001b[0;34m(\u001b[0m\u001b[0mt\u001b[0m\u001b[0;34m)\u001b[0m\u001b[0;34m\u001b[0m\u001b[0m\n\u001b[0m\u001b[1;32m     96\u001b[0m \u001b[0;34m\u001b[0m\u001b[0m\n\u001b[1;32m     97\u001b[0m     \u001b[0;32mdef\u001b[0m \u001b[0mfl\u001b[0m\u001b[0;34m(\u001b[0m\u001b[0mself\u001b[0m\u001b[0;34m,\u001b[0m \u001b[0mfun\u001b[0m\u001b[0;34m,\u001b[0m \u001b[0mapply_to\u001b[0m\u001b[0;34m=\u001b[0m\u001b[0;34m[\u001b[0m\u001b[0;34m]\u001b[0m \u001b[0;34m,\u001b[0m \u001b[0mkeep_duration\u001b[0m\u001b[0;34m=\u001b[0m\u001b[0;32mTrue\u001b[0m\u001b[0;34m)\u001b[0m\u001b[0;34m:\u001b[0m\u001b[0;34m\u001b[0m\u001b[0m\n",
      "\u001b[0;32m/Users/antor/anaconda/envs/carnd-term1/lib/python3.5/site-packages/moviepy/Clip.py\u001b[0m in \u001b[0;36m<lambda>\u001b[0;34m(t)\u001b[0m\n\u001b[1;32m    134\u001b[0m \u001b[0;34m\u001b[0m\u001b[0m\n\u001b[1;32m    135\u001b[0m         \u001b[0;31m#mf = copy(self.make_frame)\u001b[0m\u001b[0;34m\u001b[0m\u001b[0;34m\u001b[0m\u001b[0m\n\u001b[0;32m--> 136\u001b[0;31m         \u001b[0mnewclip\u001b[0m \u001b[0;34m=\u001b[0m \u001b[0mself\u001b[0m\u001b[0;34m.\u001b[0m\u001b[0mset_make_frame\u001b[0m\u001b[0;34m(\u001b[0m\u001b[0;32mlambda\u001b[0m \u001b[0mt\u001b[0m\u001b[0;34m:\u001b[0m \u001b[0mfun\u001b[0m\u001b[0;34m(\u001b[0m\u001b[0mself\u001b[0m\u001b[0;34m.\u001b[0m\u001b[0mget_frame\u001b[0m\u001b[0;34m,\u001b[0m \u001b[0mt\u001b[0m\u001b[0;34m)\u001b[0m\u001b[0;34m)\u001b[0m\u001b[0;34m\u001b[0m\u001b[0m\n\u001b[0m\u001b[1;32m    137\u001b[0m \u001b[0;34m\u001b[0m\u001b[0m\n\u001b[1;32m    138\u001b[0m         \u001b[0;32mif\u001b[0m \u001b[0;32mnot\u001b[0m \u001b[0mkeep_duration\u001b[0m\u001b[0;34m:\u001b[0m\u001b[0;34m\u001b[0m\u001b[0m\n",
      "\u001b[0;32m/Users/antor/anaconda/envs/carnd-term1/lib/python3.5/site-packages/moviepy/video/VideoClip.py\u001b[0m in \u001b[0;36m<lambda>\u001b[0;34m(gf, t)\u001b[0m\n\u001b[1;32m    511\u001b[0m         \u001b[0;31m`\u001b[0m\u001b[0mget_frame\u001b[0m\u001b[0;34m(\u001b[0m\u001b[0mt\u001b[0m\u001b[0;34m)\u001b[0m\u001b[0;31m`\u001b[0m \u001b[0mby\u001b[0m \u001b[0manother\u001b[0m \u001b[0mframe\u001b[0m\u001b[0;34m,\u001b[0m\u001b[0;31m \u001b[0m\u001b[0;31m \u001b[0m\u001b[0;31m`\u001b[0m\u001b[0mimage_func\u001b[0m\u001b[0;34m(\u001b[0m\u001b[0mget_frame\u001b[0m\u001b[0;34m(\u001b[0m\u001b[0mt\u001b[0m\u001b[0;34m)\u001b[0m\u001b[0;34m)\u001b[0m\u001b[0;31m`\u001b[0m\u001b[0;34m\u001b[0m\u001b[0m\n\u001b[1;32m    512\u001b[0m         \"\"\"\n\u001b[0;32m--> 513\u001b[0;31m         \u001b[0;32mreturn\u001b[0m \u001b[0mself\u001b[0m\u001b[0;34m.\u001b[0m\u001b[0mfl\u001b[0m\u001b[0;34m(\u001b[0m\u001b[0;32mlambda\u001b[0m \u001b[0mgf\u001b[0m\u001b[0;34m,\u001b[0m \u001b[0mt\u001b[0m\u001b[0;34m:\u001b[0m \u001b[0mimage_func\u001b[0m\u001b[0;34m(\u001b[0m\u001b[0mgf\u001b[0m\u001b[0;34m(\u001b[0m\u001b[0mt\u001b[0m\u001b[0;34m)\u001b[0m\u001b[0;34m)\u001b[0m\u001b[0;34m,\u001b[0m \u001b[0mapply_to\u001b[0m\u001b[0;34m)\u001b[0m\u001b[0;34m\u001b[0m\u001b[0m\n\u001b[0m\u001b[1;32m    514\u001b[0m \u001b[0;34m\u001b[0m\u001b[0m\n\u001b[1;32m    515\u001b[0m     \u001b[0;31m# --------------------------------------------------------------\u001b[0m\u001b[0;34m\u001b[0m\u001b[0;34m\u001b[0m\u001b[0m\n",
      "\u001b[0;32m<ipython-input-17-77c4d7d854b1>\u001b[0m in \u001b[0;36mfind_cars_fl\u001b[0;34m(img)\u001b[0m\n\u001b[1;32m      6\u001b[0m \u001b[0;34m\u001b[0m\u001b[0m\n\u001b[1;32m      7\u001b[0m \u001b[0;32mdef\u001b[0m \u001b[0mfind_cars_fl\u001b[0m\u001b[0;34m(\u001b[0m\u001b[0mimg\u001b[0m\u001b[0;34m)\u001b[0m\u001b[0;34m:\u001b[0m\u001b[0;34m\u001b[0m\u001b[0m\n\u001b[0;32m----> 8\u001b[0;31m     \u001b[0;32mreturn\u001b[0m \u001b[0mfind_cars\u001b[0m\u001b[0;34m(\u001b[0m\u001b[0mimg\u001b[0m\u001b[0;34m,\u001b[0m \u001b[0mystart\u001b[0m\u001b[0;34m,\u001b[0m \u001b[0mystop\u001b[0m\u001b[0;34m,\u001b[0m \u001b[0mscale\u001b[0m\u001b[0;34m,\u001b[0m \u001b[0msvc\u001b[0m\u001b[0;34m,\u001b[0m \u001b[0mscaler\u001b[0m\u001b[0;34m,\u001b[0m \u001b[0morient\u001b[0m\u001b[0;34m,\u001b[0m \u001b[0mpix_per_cell\u001b[0m\u001b[0;34m,\u001b[0m \u001b[0mcell_per_block\u001b[0m\u001b[0;34m,\u001b[0m \u001b[0mspatial_size\u001b[0m\u001b[0;34m,\u001b[0m \u001b[0mhist_bins\u001b[0m\u001b[0;34m,\u001b[0m \u001b[0;34m**\u001b[0m\u001b[0miparams\u001b[0m\u001b[0;34m)\u001b[0m\u001b[0;34m\u001b[0m\u001b[0m\n\u001b[0m\u001b[1;32m      9\u001b[0m \u001b[0;34m\u001b[0m\u001b[0m\n\u001b[1;32m     10\u001b[0m \u001b[0moutput\u001b[0m \u001b[0;34m=\u001b[0m \u001b[0;34m'./project_video_out.mp4'\u001b[0m\u001b[0;34m\u001b[0m\u001b[0m\n",
      "\u001b[0;32m<ipython-input-16-c3ea6c94983a>\u001b[0m in \u001b[0;36mfind_cars\u001b[0;34m(img, ystart, ystop, scales, svc, X_scaler, orient, pix_per_cell, cell_per_block, spatial_size, hist_bins, threshold, debug_windows)\u001b[0m\n\u001b[1;32m     88\u001b[0m \u001b[0;34m\u001b[0m\u001b[0m\n\u001b[1;32m     89\u001b[0m         \u001b[0mpool\u001b[0m \u001b[0;34m=\u001b[0m \u001b[0mThreadPool\u001b[0m\u001b[0;34m(\u001b[0m\u001b[0;36m2\u001b[0m\u001b[0;34m)\u001b[0m\u001b[0;31m#cpu_count())\u001b[0m\u001b[0;34m\u001b[0m\u001b[0m\n\u001b[0;32m---> 90\u001b[0;31m         \u001b[0mheats\u001b[0m \u001b[0;34m=\u001b[0m \u001b[0mpool\u001b[0m\u001b[0;34m.\u001b[0m\u001b[0mmap\u001b[0m\u001b[0;34m(\u001b[0m\u001b[0mheatmap\u001b[0m\u001b[0;34m,\u001b[0m \u001b[0mscales\u001b[0m\u001b[0;34m)\u001b[0m\u001b[0;34m\u001b[0m\u001b[0m\n\u001b[0m\u001b[1;32m     91\u001b[0m         \u001b[0mpool\u001b[0m\u001b[0;34m.\u001b[0m\u001b[0mclose\u001b[0m\u001b[0;34m(\u001b[0m\u001b[0;34m)\u001b[0m\u001b[0;34m\u001b[0m\u001b[0m\n\u001b[1;32m     92\u001b[0m         \u001b[0mpool\u001b[0m\u001b[0;34m.\u001b[0m\u001b[0mjoin\u001b[0m\u001b[0;34m(\u001b[0m\u001b[0;34m)\u001b[0m\u001b[0;34m\u001b[0m\u001b[0m\n",
      "\u001b[0;32m/Users/antor/anaconda/envs/carnd-term1/lib/python3.5/multiprocessing/pool.py\u001b[0m in \u001b[0;36mmap\u001b[0;34m(self, func, iterable, chunksize)\u001b[0m\n\u001b[1;32m    258\u001b[0m         \u001b[0;32min\u001b[0m \u001b[0ma\u001b[0m \u001b[0mlist\u001b[0m \u001b[0mthat\u001b[0m \u001b[0;32mis\u001b[0m \u001b[0mreturned\u001b[0m\u001b[0;34m.\u001b[0m\u001b[0;34m\u001b[0m\u001b[0m\n\u001b[1;32m    259\u001b[0m         '''\n\u001b[0;32m--> 260\u001b[0;31m         \u001b[0;32mreturn\u001b[0m \u001b[0mself\u001b[0m\u001b[0;34m.\u001b[0m\u001b[0m_map_async\u001b[0m\u001b[0;34m(\u001b[0m\u001b[0mfunc\u001b[0m\u001b[0;34m,\u001b[0m \u001b[0miterable\u001b[0m\u001b[0;34m,\u001b[0m \u001b[0mmapstar\u001b[0m\u001b[0;34m,\u001b[0m \u001b[0mchunksize\u001b[0m\u001b[0;34m)\u001b[0m\u001b[0;34m.\u001b[0m\u001b[0mget\u001b[0m\u001b[0;34m(\u001b[0m\u001b[0;34m)\u001b[0m\u001b[0;34m\u001b[0m\u001b[0m\n\u001b[0m\u001b[1;32m    261\u001b[0m \u001b[0;34m\u001b[0m\u001b[0m\n\u001b[1;32m    262\u001b[0m     \u001b[0;32mdef\u001b[0m \u001b[0mstarmap\u001b[0m\u001b[0;34m(\u001b[0m\u001b[0mself\u001b[0m\u001b[0;34m,\u001b[0m \u001b[0mfunc\u001b[0m\u001b[0;34m,\u001b[0m \u001b[0miterable\u001b[0m\u001b[0;34m,\u001b[0m \u001b[0mchunksize\u001b[0m\u001b[0;34m=\u001b[0m\u001b[0;32mNone\u001b[0m\u001b[0;34m)\u001b[0m\u001b[0;34m:\u001b[0m\u001b[0;34m\u001b[0m\u001b[0m\n",
      "\u001b[0;32m/Users/antor/anaconda/envs/carnd-term1/lib/python3.5/multiprocessing/pool.py\u001b[0m in \u001b[0;36mget\u001b[0;34m(self, timeout)\u001b[0m\n\u001b[1;32m    600\u001b[0m \u001b[0;34m\u001b[0m\u001b[0m\n\u001b[1;32m    601\u001b[0m     \u001b[0;32mdef\u001b[0m \u001b[0mget\u001b[0m\u001b[0;34m(\u001b[0m\u001b[0mself\u001b[0m\u001b[0;34m,\u001b[0m \u001b[0mtimeout\u001b[0m\u001b[0;34m=\u001b[0m\u001b[0;32mNone\u001b[0m\u001b[0;34m)\u001b[0m\u001b[0;34m:\u001b[0m\u001b[0;34m\u001b[0m\u001b[0m\n\u001b[0;32m--> 602\u001b[0;31m         \u001b[0mself\u001b[0m\u001b[0;34m.\u001b[0m\u001b[0mwait\u001b[0m\u001b[0;34m(\u001b[0m\u001b[0mtimeout\u001b[0m\u001b[0;34m)\u001b[0m\u001b[0;34m\u001b[0m\u001b[0m\n\u001b[0m\u001b[1;32m    603\u001b[0m         \u001b[0;32mif\u001b[0m \u001b[0;32mnot\u001b[0m \u001b[0mself\u001b[0m\u001b[0;34m.\u001b[0m\u001b[0mready\u001b[0m\u001b[0;34m(\u001b[0m\u001b[0;34m)\u001b[0m\u001b[0;34m:\u001b[0m\u001b[0;34m\u001b[0m\u001b[0m\n\u001b[1;32m    604\u001b[0m             \u001b[0;32mraise\u001b[0m \u001b[0mTimeoutError\u001b[0m\u001b[0;34m\u001b[0m\u001b[0m\n",
      "\u001b[0;32m/Users/antor/anaconda/envs/carnd-term1/lib/python3.5/multiprocessing/pool.py\u001b[0m in \u001b[0;36mwait\u001b[0;34m(self, timeout)\u001b[0m\n\u001b[1;32m    597\u001b[0m \u001b[0;34m\u001b[0m\u001b[0m\n\u001b[1;32m    598\u001b[0m     \u001b[0;32mdef\u001b[0m \u001b[0mwait\u001b[0m\u001b[0;34m(\u001b[0m\u001b[0mself\u001b[0m\u001b[0;34m,\u001b[0m \u001b[0mtimeout\u001b[0m\u001b[0;34m=\u001b[0m\u001b[0;32mNone\u001b[0m\u001b[0;34m)\u001b[0m\u001b[0;34m:\u001b[0m\u001b[0;34m\u001b[0m\u001b[0m\n\u001b[0;32m--> 599\u001b[0;31m         \u001b[0mself\u001b[0m\u001b[0;34m.\u001b[0m\u001b[0m_event\u001b[0m\u001b[0;34m.\u001b[0m\u001b[0mwait\u001b[0m\u001b[0;34m(\u001b[0m\u001b[0mtimeout\u001b[0m\u001b[0;34m)\u001b[0m\u001b[0;34m\u001b[0m\u001b[0m\n\u001b[0m\u001b[1;32m    600\u001b[0m \u001b[0;34m\u001b[0m\u001b[0m\n\u001b[1;32m    601\u001b[0m     \u001b[0;32mdef\u001b[0m \u001b[0mget\u001b[0m\u001b[0;34m(\u001b[0m\u001b[0mself\u001b[0m\u001b[0;34m,\u001b[0m \u001b[0mtimeout\u001b[0m\u001b[0;34m=\u001b[0m\u001b[0;32mNone\u001b[0m\u001b[0;34m)\u001b[0m\u001b[0;34m:\u001b[0m\u001b[0;34m\u001b[0m\u001b[0m\n",
      "\u001b[0;32m/Users/antor/anaconda/envs/carnd-term1/lib/python3.5/threading.py\u001b[0m in \u001b[0;36mwait\u001b[0;34m(self, timeout)\u001b[0m\n\u001b[1;32m    547\u001b[0m             \u001b[0msignaled\u001b[0m \u001b[0;34m=\u001b[0m \u001b[0mself\u001b[0m\u001b[0;34m.\u001b[0m\u001b[0m_flag\u001b[0m\u001b[0;34m\u001b[0m\u001b[0m\n\u001b[1;32m    548\u001b[0m             \u001b[0;32mif\u001b[0m \u001b[0;32mnot\u001b[0m \u001b[0msignaled\u001b[0m\u001b[0;34m:\u001b[0m\u001b[0;34m\u001b[0m\u001b[0m\n\u001b[0;32m--> 549\u001b[0;31m                 \u001b[0msignaled\u001b[0m \u001b[0;34m=\u001b[0m \u001b[0mself\u001b[0m\u001b[0;34m.\u001b[0m\u001b[0m_cond\u001b[0m\u001b[0;34m.\u001b[0m\u001b[0mwait\u001b[0m\u001b[0;34m(\u001b[0m\u001b[0mtimeout\u001b[0m\u001b[0;34m)\u001b[0m\u001b[0;34m\u001b[0m\u001b[0m\n\u001b[0m\u001b[1;32m    550\u001b[0m             \u001b[0;32mreturn\u001b[0m \u001b[0msignaled\u001b[0m\u001b[0;34m\u001b[0m\u001b[0m\n\u001b[1;32m    551\u001b[0m \u001b[0;34m\u001b[0m\u001b[0m\n",
      "\u001b[0;32m/Users/antor/anaconda/envs/carnd-term1/lib/python3.5/threading.py\u001b[0m in \u001b[0;36mwait\u001b[0;34m(self, timeout)\u001b[0m\n\u001b[1;32m    291\u001b[0m         \u001b[0;32mtry\u001b[0m\u001b[0;34m:\u001b[0m    \u001b[0;31m# restore state no matter what (e.g., KeyboardInterrupt)\u001b[0m\u001b[0;34m\u001b[0m\u001b[0m\n\u001b[1;32m    292\u001b[0m             \u001b[0;32mif\u001b[0m \u001b[0mtimeout\u001b[0m \u001b[0;32mis\u001b[0m \u001b[0;32mNone\u001b[0m\u001b[0;34m:\u001b[0m\u001b[0;34m\u001b[0m\u001b[0m\n\u001b[0;32m--> 293\u001b[0;31m                 \u001b[0mwaiter\u001b[0m\u001b[0;34m.\u001b[0m\u001b[0macquire\u001b[0m\u001b[0;34m(\u001b[0m\u001b[0;34m)\u001b[0m\u001b[0;34m\u001b[0m\u001b[0m\n\u001b[0m\u001b[1;32m    294\u001b[0m                 \u001b[0mgotit\u001b[0m \u001b[0;34m=\u001b[0m \u001b[0;32mTrue\u001b[0m\u001b[0;34m\u001b[0m\u001b[0m\n\u001b[1;32m    295\u001b[0m             \u001b[0;32melse\u001b[0m\u001b[0;34m:\u001b[0m\u001b[0;34m\u001b[0m\u001b[0m\n",
      "\u001b[0;31mKeyboardInterrupt\u001b[0m: "
     ]
    }
   ],
   "source": [
    "from moviepy.editor import VideoFileClip, CompositeVideoClip\n",
    "from IPython.display import HTML\n",
    "\n",
    "iparams = dict(params.kwargs)\n",
    "del iparams['fname']\n",
    "\n",
    "def find_cars_fl(img):\n",
    "    return find_cars(img, ystart, ystop, scale, svc, scaler, orient, pix_per_cell, cell_per_block, spatial_size, hist_bins, **iparams)\n",
    "\n",
    "output = './project_video_out.mp4'\n",
    "clip = VideoFileClip(\"./project_video.mp4\")#.subclip(7,10)\n",
    "detected   = clip.fl_image(find_cars_fl)\n",
    "%time detected.write_videofile(output, audio=False)\n"
   ]
  },
  {
   "cell_type": "code",
   "execution_count": null,
   "metadata": {
    "collapsed": false
   },
   "outputs": [],
   "source": [
    "HTML(\"\"\"\n",
    "<video width=\"640\" controls>\n",
    "  <source src=\"{0}\">\n",
    "</video>\"\n",
    "\"\"\".format(output))"
   ]
  },
  {
   "cell_type": "code",
   "execution_count": null,
   "metadata": {
    "collapsed": false
   },
   "outputs": [],
   "source": [
    "from multiprocessing.dummy import Pool as ThreadPool \n",
    "from multiprocessing import cpu_count\n",
    "\n",
    "pool = ThreadPool(cpu_count())\n",
    "print(cpu_count())"
   ]
  },
  {
   "cell_type": "code",
   "execution_count": null,
   "metadata": {
    "collapsed": true
   },
   "outputs": [],
   "source": []
  }
 ],
 "metadata": {
  "anaconda-cloud": {},
  "kernelspec": {
   "display_name": "Python 3",
   "language": "python",
   "name": "python3"
  },
  "language_info": {
   "codemirror_mode": {
    "name": "ipython",
    "version": 3
   },
   "file_extension": ".py",
   "mimetype": "text/x-python",
   "name": "python",
   "nbconvert_exporter": "python",
   "pygments_lexer": "ipython3",
   "version": "3.5.2"
  },
  "widgets": {
   "state": {
    "00006efdc301420bb292fa2b24be82d1": {
     "views": []
    },
    "003d48a165074368abfcaf81d396233d": {
     "views": []
    },
    "006f6e5ac10b4901839ea8362feb2ea6": {
     "views": []
    },
    "008aa88c5d10421badf015c024181728": {
     "views": []
    },
    "00efdc9aa7bf46fca7ebf19030a3ad9a": {
     "views": []
    },
    "00f83f744dc54c24a99127573d7f6df2": {
     "views": []
    },
    "012984a6e37242229803fdd1e243f9cf": {
     "views": []
    },
    "01348a4cd53b47c78532d4f3a7ab1f23": {
     "views": []
    },
    "0134a620eae24ba8b14da528465e2617": {
     "views": []
    },
    "014844a16be04e9483f556aa8eb7fb19": {
     "views": []
    },
    "01a387de371a479f81be1e1f4385e266": {
     "views": []
    },
    "01ae87a068f04265a001979d05d6e985": {
     "views": []
    },
    "020a9a3dcb764094b51c89f837a886ff": {
     "views": []
    },
    "03b87ebb0a5b43348c3591b9c44484b0": {
     "views": []
    },
    "041b551981af4455835b4e7bfd1d808e": {
     "views": []
    },
    "04c79aa0c62e4c0a8a3f3390939c9f01": {
     "views": []
    },
    "04faa28481774a368edc0661f52b6d9a": {
     "views": []
    },
    "052ac78f6d444dcdb06c2606b80d51dd": {
     "views": []
    },
    "0586ad5bf5a94bd8991dbb4aeabaff7e": {
     "views": []
    },
    "06281eeebd5d4ea6a4ac6d5845d33631": {
     "views": []
    },
    "06a836fa3d9b49b9aec921981e650d94": {
     "views": []
    },
    "06cadaebfef64034b65a3b42262ac8b8": {
     "views": []
    },
    "073a201793f04882bc8bd8c61ca8c03d": {
     "views": []
    },
    "074f14a5c4b84a2eae36678cec013860": {
     "views": []
    },
    "075d8ff78a7b45908ac949642e7081d4": {
     "views": []
    },
    "078273d0201943578b9ca39333acf5d1": {
     "views": []
    },
    "079b6d31fec142bcac6b66590b30d418": {
     "views": []
    },
    "07a7076edbf0458eb08e2178d7862436": {
     "views": []
    },
    "07cdc5a3c64c49c29c8639150a9e401d": {
     "views": []
    },
    "07efd397815c477e99461c000f1ce128": {
     "views": []
    },
    "080083b9f76d4730beb6ed35ec6c6fe4": {
     "views": []
    },
    "0803831d81164d9a85a5fe89cd65c552": {
     "views": []
    },
    "084db21e1feb4066ad4f1d18411d5d09": {
     "views": []
    },
    "0868e9b5c3b741a0889a8130e26302ef": {
     "views": []
    },
    "08e3700efa014fb9960a1f2eb0d9b97a": {
     "views": []
    },
    "0900a85b06784d19b4e59eb69224af23": {
     "views": []
    },
    "094a188edad8489da68f677109ce3924": {
     "views": []
    },
    "09d74052570c48ba8f3da120481c7699": {
     "views": []
    },
    "0a8d6d25c4f64d1ebac9d8ae4af61e60": {
     "views": []
    },
    "0ae7adf94b024deabcdf777267ef751a": {
     "views": []
    },
    "0b21d7d0d8f34b589a8fe41d45dcdc01": {
     "views": []
    },
    "0b3c31f4849549df97930755ce07a34c": {
     "views": []
    },
    "0b8956c3506f4f8ea2d877f46977cd2d": {
     "views": []
    },
    "0b89d71dfde748e19954e5d2308bd938": {
     "views": []
    },
    "0c409cc6ad4048eabb34b320f199a9c3": {
     "views": []
    },
    "0c6b8b27392949838139d771067d849b": {
     "views": []
    },
    "0d2f09728bd64724929d8ac7ab3c3608": {
     "views": []
    },
    "0d5caaad396d43969dcceea315df6a1c": {
     "views": []
    },
    "0d95e717512147b795a5f5bfd1981887": {
     "views": []
    },
    "0dfaf4db7e4246db868dbfc37688f02d": {
     "views": []
    },
    "0e357bc701ba490fabefdad5d368ea49": {
     "views": []
    },
    "0f211f154002418995bf9a00bc75511e": {
     "views": []
    },
    "0f7416b8dc5d4b4c93d4a6313dd8751b": {
     "views": []
    },
    "102d297ac986496287a259b6192de755": {
     "views": []
    },
    "1063506215a947828571e942a59e703d": {
     "views": []
    },
    "10b8b794a4ca44abbbb0ff597c7a801f": {
     "views": []
    },
    "112d64100cc242f8ac506076c2b32554": {
     "views": []
    },
    "1147b3d32de6441fbc4ae8660c0d3e05": {
     "views": []
    },
    "115c336b97ae46938c4f2a01bc66d358": {
     "views": []
    },
    "11c4d463db984cd6a7032c2d305893c8": {
     "views": []
    },
    "12427eb42aaa489a8726131948265f28": {
     "views": []
    },
    "124359fdaee74ca8a55b4d3242e93599": {
     "views": []
    },
    "12fbfc098fd2415790a03d3b43f034af": {
     "views": []
    },
    "131d69e7ee734000b85e0e0d09dd8306": {
     "views": []
    },
    "1325a743b93a42e9bd92d7c8e0ab0bb0": {
     "views": []
    },
    "134b8bfa3ae045eeb3903de42708ae6e": {
     "views": []
    },
    "134bfd441c544412975ce6de5c8c2531": {
     "views": []
    },
    "137db39370b745b1aa8ee5a27a09f594": {
     "views": []
    },
    "13beae6bd5f240df8fbce86d6943247c": {
     "views": []
    },
    "13fe3e4ef6014c969ca0e7d73717c817": {
     "views": []
    },
    "1428e83f8553477ca87d81967308d5e0": {
     "views": []
    },
    "142c151f7f344ec0befba2254ae58ac5": {
     "views": []
    },
    "14724320709442f29c610cd092dfacc3": {
     "views": []
    },
    "154c059108a74c2883db54ef4cea796a": {
     "views": []
    },
    "155a602b04364faebe4b65a2fbdd356c": {
     "views": []
    },
    "15956f0dfe514667ae187114af35dbd6": {
     "views": []
    },
    "16234100a89e4a8cb105709efcc10572": {
     "views": []
    },
    "16a97f75e0ea473dbcaa7e22655b2356": {
     "views": []
    },
    "16c03bf947bb4eb89105ebc1578fc6be": {
     "views": []
    },
    "17a5e91e6f994e13bc4f209b6db5b1ca": {
     "views": []
    },
    "17c4b706951545ad9289f96452767dfe": {
     "views": []
    },
    "17c71cb991c34ee18c1e4d03c5e42705": {
     "views": []
    },
    "19e2b67cce4a4edc8d2e16d874f46293": {
     "views": []
    },
    "1acb887f551c4eaa989fd78d3f3988cd": {
     "views": []
    },
    "1ad6e36b7b6a4b39881617ffaea78f67": {
     "views": []
    },
    "1b956a2debd54bed8e0db1cbcd41cb10": {
     "views": []
    },
    "1c72b89765a3457790f54f3e80d68bff": {
     "views": []
    },
    "1c81e5cd950041b894764e4b9c7c8acc": {
     "views": []
    },
    "1cb5f210ba2b4aa18d34cf3ffe4cfc09": {
     "views": []
    },
    "1cbfb5b78c51496f8ed8ebb274a40bbd": {
     "views": []
    },
    "1d1a8631db024c8a90cac4c0ab105725": {
     "views": []
    },
    "1d35d13081d3486493cb7e46bb5b8e35": {
     "views": []
    },
    "1d46c32e94334101a164975f2d1fd4c0": {
     "views": []
    },
    "1dc68a78998b4d22beb7a8a0c9b54ecc": {
     "views": []
    },
    "1df0ed13a7cf4680ae3103f7109767ac": {
     "views": []
    },
    "1dfab6642ed44a4bb946f89a45373851": {
     "views": []
    },
    "1e336b4db28845a08e38008774240d44": {
     "views": []
    },
    "1e4c4cf0ebbf42acb50b801d123b2064": {
     "views": []
    },
    "1e993ba5e65c4c2b91139b8e6f1e1f28": {
     "views": []
    },
    "1eb6bd14afe240aebffdacaef139b354": {
     "views": []
    },
    "1f3a0fe3e6964bbfb678ec860901294d": {
     "views": []
    },
    "1f698416938248e7815bb262a3093faf": {
     "views": []
    },
    "1fca1c2b6d354c5f8b30abbbd347790d": {
     "views": []
    },
    "206a69b24485421aac51085cd7ec07ce": {
     "views": []
    },
    "20de7691d8d84ff888af04b9d368544e": {
     "views": []
    },
    "20f63cbfa140482eb736ed00dbdacde2": {
     "views": []
    },
    "213a59eee6f84821a2ead3a5eff3c671": {
     "views": []
    },
    "217758d239944cc4976c615ad9a5ad97": {
     "views": []
    },
    "218f3806a5684b15b58c06b6463357f7": {
     "views": []
    },
    "23459f1ceddc417dad9218f98296ce30": {
     "views": []
    },
    "24320296a5d54141b3a576479d467f7e": {
     "views": []
    },
    "244da6e96d8542f5a83f9ef611635c56": {
     "views": []
    },
    "24568e5116ac4abf8635b052d2b69faf": {
     "views": []
    },
    "25492677137847f5ae048d51aa445e1e": {
     "views": []
    },
    "25629f0ed41b47f7aec2323df227a556": {
     "views": []
    },
    "25711cd4a2db419e9d9a39acf3a067d2": {
     "views": []
    },
    "258c4d87f4a84b049e4b864eb48a6820": {
     "views": []
    },
    "26c0ed13d62f46c6afcd7df8d4159d9f": {
     "views": []
    },
    "274194f51923402a868298697a84efe9": {
     "views": []
    },
    "27469234880e47e39fa4fa446e4b4cd8": {
     "views": []
    },
    "277368eeb98740b694228ab5e38c745a": {
     "views": []
    },
    "28513ff03eb644f6bf347b5d773af349": {
     "views": []
    },
    "289ecd9418c14eb0805c699b007e88ff": {
     "views": []
    },
    "28aa4dd405f449b2a2e6f470e2e8787c": {
     "views": []
    },
    "28f8e48de1e84ec99859ab16727b33e9": {
     "views": []
    },
    "2914bba6a5184a218a7c11d2a4f0ca70": {
     "views": []
    },
    "292ea500f12d49828b264d39e284dfa5": {
     "views": []
    },
    "2952a657e8bc4ae7b8521aec1633506e": {
     "views": []
    },
    "2a0b845372d84403acdfaa390f3d7e61": {
     "views": []
    },
    "2a1a198405ce4f208f30dcbc81e8c219": {
     "views": []
    },
    "2a27ab58239b41cc8fa506f65ff5397f": {
     "views": []
    },
    "2a835cd8dec84dc09b967c02ecafa267": {
     "views": []
    },
    "2a9391bfd9ad4e8caafb3ac464fd5ef7": {
     "views": []
    },
    "2a93ca8831f0483bb63696069554f820": {
     "views": []
    },
    "2b1ad3d067a0462787ad519edd090ab1": {
     "views": []
    },
    "2ba9edf9409a4ba399429c6e09a3db74": {
     "views": []
    },
    "2bc66477441e4af5bc6200820831c25c": {
     "views": []
    },
    "2c46d6b1873442d5932a4f51574c7700": {
     "views": []
    },
    "2c5b30b55aa1414382deeb1b92c7de77": {
     "views": []
    },
    "2c7031dbdb794870bf05c34b4808be71": {
     "views": []
    },
    "2dc5a69850764801b1776db81c83407e": {
     "views": []
    },
    "2dfe70d1958947968769cce87c6c07f6": {
     "views": []
    },
    "2e34a97c0e794023a8add08b14dad184": {
     "views": []
    },
    "2e9207e1c7f94af2aa11f14e19ac2597": {
     "views": []
    },
    "2ea89b8a1e694ac18c99877f59063f5d": {
     "views": []
    },
    "2f09b4f3e5b04fb690bb5a44b1b6035a": {
     "views": []
    },
    "2f46cfe4a1e447ec88ac39859d8ffc71": {
     "views": []
    },
    "2f7b732779354501a83ccc89d3f3b862": {
     "views": []
    },
    "2f818b74136c499eae76abb486d01d94": {
     "views": []
    },
    "3056f6b6f16544fda56ce8421bfbc243": {
     "views": []
    },
    "306b09fc2a2b4931bb9e790a15456fe0": {
     "views": []
    },
    "3105725f16794c0cb239e0f9cc5fe6f9": {
     "views": []
    },
    "3186f60af6c640ba9f2819afc4da2502": {
     "views": []
    },
    "323b928332834421a770bedd49827738": {
     "views": []
    },
    "32a5a9d2a12843caa0a19802d0df9c60": {
     "views": []
    },
    "338ef519f3b94eb88447cf22df228f03": {
     "views": []
    },
    "33deab810e6b446984c0c118039ffb72": {
     "views": []
    },
    "33f4c1d5fb5b444f8ebc550356b6229c": {
     "views": []
    },
    "345d3d69869547e39009a7fadda0e3b1": {
     "views": []
    },
    "34ab8b5da7ea4fbf80a409b8fb56ee9a": {
     "views": []
    },
    "34e2cf67b47b4383b3cd29a9b2ba531e": {
     "views": []
    },
    "351976db0776425ab2b35a7eec840c28": {
     "views": []
    },
    "352a3fce224a449ca82ae975c957d694": {
     "views": []
    },
    "35555ea1e27a4f62b6f0f133025e7d8e": {
     "views": []
    },
    "35f0052fea32420785526bb197845b93": {
     "views": []
    },
    "3726ca5cc0ed4cce8955e98ce63f4b4f": {
     "views": []
    },
    "379c7e875d7b4ce8b2dae66ac1550ccc": {
     "views": []
    },
    "37fec9a404f04cc5ac32d34522b54b36": {
     "views": []
    },
    "3819d641008d4ff78f4dde5f2ff970eb": {
     "views": []
    },
    "38eebc145a04465987c55739f841f049": {
     "views": []
    },
    "3a2198c5ef78482b9fe9e830a2d3b673": {
     "views": []
    },
    "3af69c8c7b3041baa46be054d4addb20": {
     "views": []
    },
    "3b22da9344c944329637905505da0c19": {
     "views": []
    },
    "3b399527d2ba499080efafcf7dba492e": {
     "views": []
    },
    "3b67b81a64144d9d86d5bf7d70cd82d1": {
     "views": []
    },
    "3b67e7ab43984a73b258a3d63224d6b2": {
     "views": []
    },
    "3b864bbbdf7541cdbe0c327009246325": {
     "views": []
    },
    "3bd7ac950ba148c8961f5cafd67f212a": {
     "views": []
    },
    "3c7fe2e3d8394259af3616e3e5dd652f": {
     "views": []
    },
    "3cac1c01486b4d329be044f4bdd9fc7f": {
     "views": []
    },
    "3d5e3b9aa4b54ffb8991491b0140c2f7": {
     "views": []
    },
    "3dac5a64bdf2402c8a936c40654cbcaa": {
     "views": []
    },
    "3db0d25dc9974ba9b8a0f5597720d8f7": {
     "views": []
    },
    "3dbe60b0368745059df2c72cae2629ac": {
     "views": []
    },
    "3e074c9baf1f4d458098b3f1d746cc60": {
     "views": []
    },
    "3e65a20389fc4b5284a79d2d1298221d": {
     "views": []
    },
    "3e7e64dfc95646d18dbac97666e1c18f": {
     "views": []
    },
    "3ea6363e7aa1410db28ef8f8fb47ccf2": {
     "views": []
    },
    "3f258e88516c4d33a86cc2d4861db349": {
     "views": []
    },
    "402fe98b28ef40c6b3b6029fb57686db": {
     "views": []
    },
    "4030dddbd050446cad1ad6fddee8cdda": {
     "views": []
    },
    "40a4836f2aeb4667bcfed9bb51bc5c62": {
     "views": []
    },
    "40b5b261193a472388e777d756ae749b": {
     "views": []
    },
    "413d8d15ca8b4979b61a595f617727b3": {
     "views": []
    },
    "416bd71885c04c1e9120c6fcad34b486": {
     "views": []
    },
    "41f903570a6f441ca0e09aba3b92b768": {
     "views": []
    },
    "42b7ab9cb156424892151170572d0f36": {
     "views": []
    },
    "42e2b3eb2bee4882921d4f787c7d43e5": {
     "views": []
    },
    "43070d09260842f08a82a80c45134133": {
     "views": []
    },
    "435b4c5798f6435690e7a2e7d4ac5506": {
     "views": []
    },
    "441fd429abc84a61be5605e2b722b44e": {
     "views": []
    },
    "44787202e6a74f039828158531420b55": {
     "views": []
    },
    "44bdafabbe224a7ab46fdbc79264ce4f": {
     "views": []
    },
    "44ff72956d474de9b442475a9d681852": {
     "views": []
    },
    "4504b307043f43efb0c9a34b89f52e63": {
     "views": []
    },
    "4591ec024423483293aa51c25d557b84": {
     "views": []
    },
    "45e79fce6f494294aa72b35277597122": {
     "views": []
    },
    "4609f8b784544d11b30e5c062e52bb96": {
     "views": []
    },
    "46686d2e61964a98a850ade5527daec9": {
     "views": []
    },
    "468da602955b422d8d43c714513a0945": {
     "views": []
    },
    "46a39bec9ab948b8a8e277afacee27d3": {
     "views": []
    },
    "4712d214b0844ae48c2e52427bb5c105": {
     "views": []
    },
    "472b84d66dc343cd8d48bfa1d1affcf1": {
     "views": []
    },
    "47b431b45d6f4bd6bf8dcd2fc1983568": {
     "views": []
    },
    "480c04e5ecc9434596d2f022442b1339": {
     "views": []
    },
    "487e3a253dbc4b89b88c762bf7f99864": {
     "views": []
    },
    "4881c780e450423ea3084f6a23087a83": {
     "views": []
    },
    "4890bf113e7d418280b013a570835b39": {
     "views": []
    },
    "495d0c8ea5f04ba89078e49aa570137e": {
     "views": []
    },
    "496efb8953c748ce9a84c2f8cbd40703": {
     "views": []
    },
    "49b23cf5e3a24c21a17a3443a8e65051": {
     "views": []
    },
    "4a575788f5804b95bad71925df3203d6": {
     "views": []
    },
    "4a9540f1ee4d4bb1b5e731217d909dc9": {
     "views": []
    },
    "4ae5c1c7fc67404ba527a981c0eaea0e": {
     "views": []
    },
    "4b472577adc740d791de6443cd592c8c": {
     "views": []
    },
    "4b865c6051844a528bad273be4e328ab": {
     "views": []
    },
    "4b91c3da4fcc42149f6d315edec68f0f": {
     "views": []
    },
    "4b994d0d9abe4f7b94eb5908f777301a": {
     "views": []
    },
    "4bf64eb0bb3a40b59d11e98006c84ebf": {
     "views": []
    },
    "4c03a50c4a804538a5e4dc3c4932f8cd": {
     "views": []
    },
    "4c1c9b65eda049fab14cc4cbd0369f49": {
     "views": []
    },
    "4c6f12464a2841d9a823d9a27dda794f": {
     "views": []
    },
    "4cead46dfe9247a6b29f9b8694bc7010": {
     "views": []
    },
    "4d212771e1244743b53f61a0a3faf685": {
     "views": []
    },
    "4d708fc4df2d4b8c8d4a1bf744ef7b09": {
     "views": []
    },
    "4d8618799eea43598eae3a7ba4a2444e": {
     "views": []
    },
    "4d86d09309bc465582444744753711e2": {
     "views": []
    },
    "4ddf5a4bcf7a43b5abec03f35b6d35f3": {
     "views": []
    },
    "4e0ae06e2b48470dac5f2a12f32bc402": {
     "views": []
    },
    "4e79f088a59e4c45968c50e2bfc647e5": {
     "views": []
    },
    "4ec79fa89b654a21b406e2604697d0b4": {
     "views": []
    },
    "4f15963d7d5043019832bbeaec79cffe": {
     "views": []
    },
    "4f5ffeda8f0d4be7ba35cc4d803baf31": {
     "views": []
    },
    "4fa3abdccb5748448ffbb0811fb3ff27": {
     "views": []
    },
    "4faaaef184954ccbbac2ec6dd71c2f24": {
     "views": []
    },
    "501a9b1487634f77974fe76df460530b": {
     "views": []
    },
    "507d20a989e24c7b9d12d87ad7fa701d": {
     "views": []
    },
    "50f329416bc24d82aad302b3fcc2efee": {
     "views": []
    },
    "50f74623478e407ca8a69e00e4e0b247": {
     "views": []
    },
    "51d87c8ac7fb4359a5385763bd39b2a6": {
     "views": []
    },
    "51df9bf7970d4e179ad73cb921c4018b": {
     "views": []
    },
    "528c1ee30516414bbba9cfd2df0f889e": {
     "views": []
    },
    "53168bab65ca40ab85e2d0d3feba8f1f": {
     "views": []
    },
    "53bfe3ff406c4bc5b66dc929911f687a": {
     "views": []
    },
    "53d3c11ea7c54a6f9248c173fa53f343": {
     "views": []
    },
    "5407f548281549928c995d1a35e27eae": {
     "views": []
    },
    "54b016cc4aba485296c29c438a86edb3": {
     "views": []
    },
    "54c34e525bcd42eb9021879f9e387e41": {
     "views": []
    },
    "5552cb3e26174e89a40dc842407d9a3c": {
     "views": []
    },
    "55eda3e6a5344b1e8e8e38d4d1295de4": {
     "views": []
    },
    "561636b2eb144f299fbccec8f08a8dcd": {
     "views": []
    },
    "5652f719679f403385d9e342e7cb2e5d": {
     "views": []
    },
    "5665ba1cc1614e8b9e7865d8dc4a3cb5": {
     "views": []
    },
    "56735ca5764f4feca2e38b8778549c8e": {
     "views": []
    },
    "567ce746b39b4decb4cbf9e310f34c54": {
     "views": []
    },
    "56b5c0934557453184a562a88475d616": {
     "views": []
    },
    "573bad13ab3b417eaf74b8f549c28fdc": {
     "views": []
    },
    "57dfe69ffd8d4f78955d52d71a392536": {
     "views": []
    },
    "57f7759bc3044952b967259f01803978": {
     "views": []
    },
    "581178ac8e744f079c5f3a2d1b5e21d5": {
     "views": []
    },
    "58f7816a2e044f3fa4ed9544fc25d61c": {
     "views": []
    },
    "59ea25d310e448b2bf473515f8d26290": {
     "views": []
    },
    "5a3fa679d05c40e4b6921b94868bef45": {
     "views": []
    },
    "5a7ff5dcc42d4e1a8c068c202a5f28b3": {
     "views": []
    },
    "5b3358baf03941cc91dccaea5f9bd38f": {
     "views": []
    },
    "5b374b53bb24409e9737f41c9af7cd27": {
     "views": []
    },
    "5babf110cffd48cbb06d6e2902b7b6e5": {
     "views": []
    },
    "5bc0952a3d3346afb4dcc231bef6b157": {
     "views": []
    },
    "5cfc57899224490cb07d2e27b17a4325": {
     "views": []
    },
    "5e21f0f365c44c6688915c7e01a8d14e": {
     "views": []
    },
    "5f1b6fd0676544f1b5f29e2979996f5f": {
     "views": []
    },
    "5f23f262750b4a71bf2b0fddec5ff950": {
     "views": []
    },
    "5f3a4c3c841a4b8baaaa69065a3feeb2": {
     "views": []
    },
    "5fc1e6ee908d4d0ebb4636f7b93412f0": {
     "views": []
    },
    "5fd1436e102e49789cf505aed42cdeb2": {
     "views": []
    },
    "5fdb0b5e4909463c9f506e31c06310b9": {
     "views": []
    },
    "5fe68846465e4e798dbbdd22e9a3d2ce": {
     "views": []
    },
    "60544a022a954d798f826475739443c2": {
     "views": []
    },
    "609eef3809f94710a7a44a53e37b8d68": {
     "views": []
    },
    "615b063cee0042749bb7ab0a271eb6f3": {
     "views": []
    },
    "61a49829063c4ef49dfab2084246cd95": {
     "views": []
    },
    "61d2c4b8f09a445b928acaf12de35a08": {
     "views": []
    },
    "61d388c5a2ee4d678ab753cc1870c703": {
     "views": []
    },
    "61e4f96509084e08974d14299f8b227f": {
     "views": []
    },
    "6226ce6421e14a10b156f8b1fdd0b9f5": {
     "views": []
    },
    "6252c0c5ac734a0d816c5b5ddfa99451": {
     "views": []
    },
    "629500ecdd884251af79e4a344e7bb54": {
     "views": []
    },
    "629af6c744c148608fd57979e67c2ece": {
     "views": []
    },
    "62c27cda1b78421987947df5f65054e3": {
     "views": []
    },
    "630f688cb0ec4a9e957fbfb3a0f4e787": {
     "views": []
    },
    "633f8557e4ca4e129654dc6664bf027b": {
     "views": []
    },
    "63454d221b9d46bc829eee6b1a4b4eda": {
     "views": []
    },
    "635bff80d11f42f9b627680308ffbb28": {
     "views": []
    },
    "63a5e1aff4034704aa47453404877cf2": {
     "views": []
    },
    "647921c699584a1493ce1550cba1cf12": {
     "views": []
    },
    "6495ed26f23b4312aa160f0695e138f2": {
     "views": []
    },
    "64c0499347584887a6161be3def1d891": {
     "views": []
    },
    "652c51ce626b43ca8e77266aae791cd7": {
     "views": []
    },
    "6606684f22624b7cb6bc9c03ed054e3c": {
     "views": []
    },
    "66ffcd8058ac405f85f3cf3b4524d72e": {
     "views": []
    },
    "6764945b93f94835863bb6446135e26c": {
     "views": []
    },
    "6813ee3aa8ce48c5ab7b21dbe0fb5732": {
     "views": []
    },
    "683c414168c741cebfe591fa9cf10e11": {
     "views": []
    },
    "6879ef5808c544c3ab4b437927e539f3": {
     "views": []
    },
    "6915d77eb8f14cb89f12e7b5bc6f3dc8": {
     "views": []
    },
    "6923a13982e74bb9b505b71f56958d30": {
     "views": []
    },
    "69d61d43afa74b06bd0e3f15b6485246": {
     "views": []
    },
    "6a51694d44a64a6f93798de77e38da00": {
     "views": []
    },
    "6a570f51ce024d39a30883b08a267cf0": {
     "views": []
    },
    "6a8e13e9bc314b4cb8072809d6129f05": {
     "views": []
    },
    "6a8ff00df9bd430fb3882c226b09aeae": {
     "views": []
    },
    "6ab008f8a4824050b949f87fae673910": {
     "views": []
    },
    "6ab0e3b31de94ce8863780d79ddc61d3": {
     "views": []
    },
    "6b0433b05525439a9fca995525b94936": {
     "views": []
    },
    "6b78054e196d4f638b34d18a8d0dbee6": {
     "views": []
    },
    "6b88a868d6f548a4bbd21949bd1121b9": {
     "views": []
    },
    "6b8a01b4174249b48426f8d1439eb64b": {
     "views": []
    },
    "6bddc3058168425bbd09e130dbc8c615": {
     "views": []
    },
    "6be659ca1d2a49bd87099de5f5a0698c": {
     "views": []
    },
    "6c4762f7a92f4dce829e884796fc0dfb": {
     "views": []
    },
    "6c4ca0f5d7074087926ec028a85a749a": {
     "views": []
    },
    "6c6290fe111e4540916db510cae3d030": {
     "views": []
    },
    "6cdd06c0fa224407a926313dc9fc443d": {
     "views": []
    },
    "6cf512ec8bc74978853888dbb91848ec": {
     "views": []
    },
    "6d13c6057809428fa1cd72312993070d": {
     "views": []
    },
    "6d17344df74b48af8d1c630d8f7aa856": {
     "views": []
    },
    "6dce7aaeec0d49fa9ea5c344d6c5439f": {
     "views": []
    },
    "6de5f2544b4642c9b55eb075418be2b1": {
     "views": []
    },
    "6e38db62bec3493cbb5cb754656d559f": {
     "views": []
    },
    "6f7f3ad09e68487e99faa940bc1a2d3f": {
     "views": []
    },
    "7084e2d80bed4daa9085ab654754e53d": {
     "views": []
    },
    "70a70e8689504cfc826a1bf40cf58db8": {
     "views": []
    },
    "70eff39dd13a482aafc91bf38f09cb76": {
     "views": []
    },
    "70fb1064007b4a9896c364b20f15b22b": {
     "views": []
    },
    "713b4866f20e43ca96bd3820b88430f0": {
     "views": []
    },
    "71544c23806047a2b1dc255595f83bdc": {
     "views": []
    },
    "72ce16b1d30d445cb9875b37ca4ee196": {
     "views": []
    },
    "73f85682472f42c1b345a72cb3e409c0": {
     "views": []
    },
    "74a0107268d14951a72c2c03e45ceeef": {
     "views": []
    },
    "74b6df4b50de41169ea4a35d78fc4a4c": {
     "views": []
    },
    "74b865e9096e49138f84ddfbcd348eb5": {
     "views": []
    },
    "74d9e1cbd4c94bee8a20fcd9d300d953": {
     "views": []
    },
    "74f815e5b29e4936ba1be5d05e9cbbb9": {
     "views": []
    },
    "7514f11e0a2a4c719e89fddf21be41b5": {
     "views": []
    },
    "760f4d155c3746d5b1ed4a562ccb45f6": {
     "views": []
    },
    "77295481cd7d4d57aa9a3803dd9a2de2": {
     "views": []
    },
    "7732539076cf4c40bdba0ebb32b140ef": {
     "views": []
    },
    "7761739b32ea4f529dbdc834ea353983": {
     "views": []
    },
    "77b667baf25e44bc8f6334fd8efa14b4": {
     "views": []
    },
    "78b11333f26b4c0eb12b50a618f1b983": {
     "views": []
    },
    "78c9ef7a1df44fb4862cfe4a7864457a": {
     "views": []
    },
    "78d0ed3dc9ba4bd58cd407ed09ad470a": {
     "views": []
    },
    "78efa4bd0bce49898eb782a70949192d": {
     "views": []
    },
    "793e6d3325564ac19951975e719cb781": {
     "views": []
    },
    "7960426996f243d99196defebfcfef9e": {
     "views": []
    },
    "7960dd4ad61f4a668265a8e7d0937731": {
     "views": []
    },
    "7966fdcab192476fa927a703b0ff9cf4": {
     "views": []
    },
    "796937661ed5492db9e4e13c14043e4a": {
     "views": []
    },
    "79c237a54f4c41c3b886a3cfbc7c32d9": {
     "views": []
    },
    "7a448711624a427ab2f3287b4ba31349": {
     "views": []
    },
    "7aa46e7522804ace8fabfbb25eb181e9": {
     "views": []
    },
    "7aa7d61e42e546ef8f3f2264ef258a90": {
     "views": []
    },
    "7aa8fd26d7cd450a861efba6462ecdff": {
     "views": []
    },
    "7ac1870c86134fdda13d8d16650e3806": {
     "views": []
    },
    "7aea803a32674fb69e81bd3760d72eb9": {
     "views": []
    },
    "7b1af1fae10c41e8b9f1a94a70b39828": {
     "views": []
    },
    "7b2fa11e3d494f50ac8e0a90773ca2e5": {
     "views": []
    },
    "7b388272676c40de822341c6f25b2eff": {
     "views": []
    },
    "7c5c0b982850480da5513833fe7cad53": {
     "views": []
    },
    "7d47e5187ea04dd39fdf6b1fd65f4ac4": {
     "views": []
    },
    "7e012df734624de5a3b6323783d73332": {
     "views": []
    },
    "7e02328d3c8644b58cbdcd4dfe01ab34": {
     "views": []
    },
    "7e65b07e8f874a33b9309ceba64aa4d6": {
     "views": []
    },
    "7e78241e23db41269871d0d04f80b081": {
     "views": []
    },
    "7efdc68653a6476e9270419fbcdc5fb3": {
     "views": []
    },
    "7f9751d7fbfd4812a07ef9457a497348": {
     "views": []
    },
    "800b6977f77747f4b9fb7cef4cef229b": {
     "views": []
    },
    "815a2807d91846a1b4bd21ff03e636a4": {
     "views": []
    },
    "8170c9ef4f3e4afd8272138f3ccc94eb": {
     "views": []
    },
    "81954529228c4cd8a6ede433489dae6b": {
     "views": []
    },
    "8224f760df784b9592b29b26a7ae0103": {
     "views": []
    },
    "824bc2aa03434437bcb6cb452c6f3ccb": {
     "views": []
    },
    "82595d9464c4464a8e91df5cda638e75": {
     "views": []
    },
    "82b33ba803784b66adaf3aa37a98b85e": {
     "views": []
    },
    "82b7caf090204117b2b74d62498348b4": {
     "views": []
    },
    "82b859c727cb4a86ade6e933d2386b80": {
     "views": []
    },
    "831720ca04664e6ca784ce9913ff2288": {
     "views": []
    },
    "8332fd8bda3e4276aead82f55779f7ec": {
     "views": []
    },
    "8394f67f27e5415d8eecdc396202a8dc": {
     "views": []
    },
    "83c8fade99fb4738b770c97a8916f3c0": {
     "views": []
    },
    "83e3707bac5b486dbc9f92f2010f1907": {
     "views": []
    },
    "840ff73d98414c389529b0630b0eca51": {
     "views": []
    },
    "8418f996376e4e5cbfa4cb96151ed607": {
     "views": []
    },
    "847c4d83441e405ebdd69b8151e1eedd": {
     "views": []
    },
    "84958ffa56454286bc0237c65b2225d7": {
     "views": []
    },
    "8524e12b1eed4696a3bebd444ee00c7b": {
     "views": []
    },
    "853a3386f7624b8fb273d1135bd88351": {
     "views": []
    },
    "87157a702dfb4467a792ca2d1e52ba7b": {
     "views": []
    },
    "87224196bc384771988d5bc570d0bef2": {
     "views": []
    },
    "882308b3fe384a4384b050f8bc692809": {
     "views": []
    },
    "88be71204fa74115a534c397c28720f7": {
     "views": []
    },
    "88e8959309ad4158abb0631fafe5a28b": {
     "views": []
    },
    "88ff8beef67242a3ac3851f3857cbb09": {
     "views": []
    },
    "892e5ab4f19044ebbf6f27ca1ad2add8": {
     "views": []
    },
    "893d01912cc04c8db8994cb0b00caef4": {
     "views": []
    },
    "895f335ca9434c249e45b21fa5523256": {
     "views": []
    },
    "89db2e899fd5409eb6e28059b65942c7": {
     "views": []
    },
    "89f14a3cb7be4500898b9ff1931b1ec0": {
     "views": []
    },
    "8abc62937d084fe4b1a0d41957af0e97": {
     "views": []
    },
    "8b73f9413cee4a81832816b9d45758a3": {
     "views": []
    },
    "8bc989029ae54f759e5f7e6b69b7602d": {
     "views": []
    },
    "8bda1b56fe1d496ab2c41e6e1de4df2b": {
     "views": []
    },
    "8bf3ab85f28143c3a1ea6730aa4cb742": {
     "views": []
    },
    "8c8010b15dc246ebb3cacb4a2259b34e": {
     "views": []
    },
    "8c91ac3e08ae486992e4cd981ba1d930": {
     "views": []
    },
    "8cb974859d094223ba3ed9ab52cca932": {
     "views": []
    },
    "8cee7983a12d4b16bcbc2f2e104ffb63": {
     "views": []
    },
    "8d2106468f084d14896a84eb4fe4d82b": {
     "views": []
    },
    "8d6df8cdec9345fc85010e02b376e372": {
     "views": []
    },
    "8de7f291497e49339d116ed207b231e8": {
     "views": []
    },
    "8e1096f35157498a89233a8958c46334": {
     "views": []
    },
    "8e6a20d2c34e4fc8857693f70f7b3da4": {
     "views": []
    },
    "8f5ae1308ed9406889fe17bbf37cb9b3": {
     "views": []
    },
    "8fd22e72f8e949e49ad2b62fef300366": {
     "views": []
    },
    "8fdd7b899c3946609b29cdae43c11cb1": {
     "views": []
    },
    "903341ff25994e9e8c44dd0d2cdd9e81": {
     "views": []
    },
    "90ba14c12be34719a5acd27ee7169775": {
     "views": []
    },
    "917b3fb66c1940beafbbe2e145fa4e4c": {
     "views": []
    },
    "919ec7ca6c294640aa011152a891272e": {
     "views": []
    },
    "91c632c1219a4aa3a2bcb03d9f341cc9": {
     "views": []
    },
    "9250d38161d6459387231d070bd6c368": {
     "views": []
    },
    "92c2f1c60fc24237a4297b3d19aabf70": {
     "views": []
    },
    "92e76731994748f99f505e0e6b972920": {
     "views": []
    },
    "939d7194efb7420d87aa2cf042392fe3": {
     "views": []
    },
    "9446ee1d9cb94cfcaaf6c29cb9d550d1": {
     "views": []
    },
    "947f41c188704f5491bfe03868ff7f53": {
     "views": []
    },
    "94b8a892192a4535810b399d7a4edff8": {
     "views": []
    },
    "9598c94c3fc942209f6f6f6c4fbe8e2d": {
     "views": []
    },
    "95e7c203f7b6499084cfdb1d2a06c92a": {
     "views": []
    },
    "96b6c730183c4aea9b892c0bce48211f": {
     "views": []
    },
    "96e22e6e2b5f4073933cd50a0671a543": {
     "views": []
    },
    "96f3a33cc8bb4621be72047f4239b45f": {
     "views": []
    },
    "970872ff5ded491cbe2595a6080516ff": {
     "views": []
    },
    "9741a6d167864332a9d24a23735347f7": {
     "views": []
    },
    "977c59c5284f40c5ac0d83c0078223ba": {
     "views": []
    },
    "97c5da468021466bb9f056fba227f2ad": {
     "views": []
    },
    "9862fefd755544e39ceba9aeb1cf55c2": {
     "views": []
    },
    "9886fe13490f424fa6903a7e8421b26b": {
     "views": []
    },
    "9898bd54a89942ce876984812945602e": {
     "views": []
    },
    "98a6b7dad16641d3a6c90571adbdc8b8": {
     "views": []
    },
    "9919dba5a86d4f4382b91cb3d5c2198d": {
     "views": []
    },
    "994e0429d9cf4608a6897a20737b641c": {
     "views": []
    },
    "99929b118aed46ad8a356b0dfed0c00e": {
     "views": []
    },
    "9a42ce572bf142408eae894429225dd4": {
     "views": []
    },
    "9bf9d7e4d72c40758c0922391c1d86ac": {
     "views": []
    },
    "9cc6bac84e774680ad20b6bf1cc0cd29": {
     "views": []
    },
    "9cf73628a2b946feb08cbb5e8549896b": {
     "views": []
    },
    "9cf9e1f9b9af498886c80495583b8b59": {
     "views": []
    },
    "9eb485bcd6904739bbc68ff93f6bf91d": {
     "views": []
    },
    "9f1a632768874b2fb570da5ca34f3c68": {
     "views": []
    },
    "9f419f9de0e747babb4f7b0d27455fba": {
     "views": []
    },
    "a093f26a5cf94e1083da26949e65f902": {
     "views": []
    },
    "a179af432e0644f1b57b87fc9dac3e41": {
     "views": []
    },
    "a1c69d3c5fcc48798cfb14dafc47cb04": {
     "views": []
    },
    "a1e6fcc2840b41be996875c8bfed3463": {
     "views": []
    },
    "a239667d2d2c4a56967f411193fff693": {
     "views": []
    },
    "a28d09a50b4041849c7cf601e35e3eac": {
     "views": []
    },
    "a3179460254c4c308cf98454017d17bf": {
     "views": []
    },
    "a37a0efaddd747ffa556ff0c7f5af312": {
     "views": []
    },
    "a3b2ef49a40d41abaa2aee84a7d56112": {
     "views": []
    },
    "a46cab3f14964a12a0a1b156ff3f3be7": {
     "views": []
    },
    "a470d15858ba4e52a8dc6e6053c2a9a3": {
     "views": []
    },
    "a51e5ebb776e4709be7db44312e925a5": {
     "views": []
    },
    "a532df45b9224c06b0ed83535dd752f8": {
     "views": []
    },
    "a5bf5161cc95402eb0fd413e94890233": {
     "views": []
    },
    "a5c196b35d06476abb2c38b80550bb77": {
     "views": []
    },
    "a6d314eda83c4f178572bcb6d0212227": {
     "views": []
    },
    "a6d6408b564740a6bf8dcdae39530a3a": {
     "views": []
    },
    "a715c580235d4f5291d38eb8c1084439": {
     "views": []
    },
    "a742de14df774444b9dab78e6190a603": {
     "views": []
    },
    "a7997e95ae6f41058cf92510ea24ea95": {
     "views": []
    },
    "a7b58522200e48f5903e30235d19e425": {
     "views": []
    },
    "a81b1897da23458fabfd84b98e16102a": {
     "views": []
    },
    "a8316a091e304ea5a56998719666c980": {
     "views": []
    },
    "a907008f11a84016b91edfd2087722fc": {
     "views": []
    },
    "a95c56e3ec694f2686c7a4b7e7b8496c": {
     "views": []
    },
    "a9b7ff48e35b454a8b8e493bc17f43b0": {
     "views": []
    },
    "a9d03d1a4e9a47f0b33c033debdaba2e": {
     "views": []
    },
    "aa4fd1b5a66c4dddb7f8d89e3d8e5dd6": {
     "views": []
    },
    "aa5aa18231304deda1e3fbe0cc2a540a": {
     "views": []
    },
    "aa8a6b43948f4060a569e39b8622f9f5": {
     "views": []
    },
    "aace09cb51404545b7c8e31c75050fba": {
     "views": []
    },
    "ab175e454f984fa4960cc1d3c57a2522": {
     "views": [
      {
       "cell_index": 10
      }
     ]
    },
    "ab5c8980c840471a95677cd405c02730": {
     "views": []
    },
    "aba46c0a8aca4e519acbea243baeea96": {
     "views": []
    },
    "abdcf242c0ab43acb0652110ebc4dca7": {
     "views": []
    },
    "ac084ad971a5455182b0f2c3a577f269": {
     "views": []
    },
    "ac45a4c8fb2d431fbd3f48ed85e35221": {
     "views": []
    },
    "acb54341782347748e20901187bff6be": {
     "views": []
    },
    "acf505d16b1f45738aa41f7ba2585163": {
     "views": []
    },
    "ad0702f639bc41dda673902590c4aac9": {
     "views": []
    },
    "ad170cff04004e2e83f6263da42b8625": {
     "views": []
    },
    "ad4a9f10f31140c086516eba8ec7de5c": {
     "views": []
    },
    "ad6b55676923496f85983d14966a49f1": {
     "views": []
    },
    "adc1e0d9050d4e1b9c1e2f0b9b2f8478": {
     "views": []
    },
    "ade8c82f729646fe9ff1acf7b341bc60": {
     "views": []
    },
    "ae7a5e771fce4154862ddffcfa2b8a6b": {
     "views": []
    },
    "b026021674e94cae854c44d919e6139c": {
     "views": []
    },
    "b04313a91f9f4524a43cf0781f998ce3": {
     "views": []
    },
    "b0843b6f5a454149bb6f15dc0d377be1": {
     "views": []
    },
    "b08bee17c20c4082a40c47902fa50a77": {
     "views": []
    },
    "b0a8be145fd74790bf119f6879e1e34b": {
     "views": []
    },
    "b0c534cdca7e44e1b1c95edd196d0050": {
     "views": []
    },
    "b12761f93df04b86b7bd08bef698dc7c": {
     "views": []
    },
    "b1d60552613b48969abe244dc02c08d9": {
     "views": []
    },
    "b2c4fdaba94a4540933770b52de6e247": {
     "views": []
    },
    "b2dbcfdc2e3144d08031c71354a999b1": {
     "views": []
    },
    "b2ede495125a42ce8693c465ab8eca3a": {
     "views": []
    },
    "b2ffb2b33be84c57915583b95d518f44": {
     "views": []
    },
    "b38fe836698c4583b9184dddceb26a0f": {
     "views": []
    },
    "b41daacec41445869b88509ecf1c3bee": {
     "views": []
    },
    "b47939fddb9647b5baf6dee3583e9245": {
     "views": []
    },
    "b498d314aa984206a1f4bfc5b7b6dafb": {
     "views": []
    },
    "b4a115b58029401fba8d37b804f62c3d": {
     "views": []
    },
    "b4fca3984298461eb7009c02a51e6eb2": {
     "views": []
    },
    "b5b2b2bf5140417d8857c69b768e4264": {
     "views": []
    },
    "b6058b9e886d4a4199a8021d2f7570e3": {
     "views": []
    },
    "b60a8fb6ef9c461e862d76d60ad5aec9": {
     "views": []
    },
    "b6be151237eb4cad9f34b211e4849c08": {
     "views": []
    },
    "b72f149e29cc4230896c4dca03a3fb5c": {
     "views": []
    },
    "b787ff8ab20f42238cbe32966ac05825": {
     "views": []
    },
    "b7d1c0d7545d416a935fca673d4588a7": {
     "views": []
    },
    "b86174a710fd4eb88603f5deda1eb2d1": {
     "views": []
    },
    "b8926073d571473dafb21f34a5eb9984": {
     "views": []
    },
    "b99b691a37244c8f8a595c23f536f6c7": {
     "views": []
    },
    "b9f7445977dd4c85a5177ef8c24a0a16": {
     "views": []
    },
    "ba0bdd6c45f54c3f9cc5baa612cb2f44": {
     "views": []
    },
    "bad46efe68cb4b26a629e27440428d93": {
     "views": []
    },
    "bb3cd297ae974b7abf6e78002a433ccd": {
     "views": []
    },
    "bb510b01dd734d898a8d686fb6232fda": {
     "views": []
    },
    "bb9577f7278d4a4cb999faf575858f6b": {
     "views": []
    },
    "bc1a56af9b6c4670a1fb43d8df852e51": {
     "views": []
    },
    "bc420f3d752c474a89e3e5f3fc42d2c2": {
     "views": []
    },
    "bc5250c55b9744cc9738b794cc0e1144": {
     "views": []
    },
    "bd034fc0506d408992315fa97faaac8d": {
     "views": []
    },
    "bd19e1982634487b864b4d0f0768ee1b": {
     "views": []
    },
    "bd5760c8b8b049d2be3d0f5a765e33ef": {
     "views": []
    },
    "bd887479ea02441b8cd152a499fa60e9": {
     "views": []
    },
    "bdc4b0e60b3b4744aa2c3d47cbdf969e": {
     "views": []
    },
    "be47c875457c4455868db099db3be2e9": {
     "views": []
    },
    "be7f99485dda423784fb03c269007ad3": {
     "views": []
    },
    "be804dc83da24b01964f2d8efc5cb9f3": {
     "views": []
    },
    "beb41ff29d9b48e3a367595c26fbb8b9": {
     "views": []
    },
    "bfbac007f245487c947e7cebca6eed5e": {
     "views": []
    },
    "bfd19ad3cc3748f3978f8c452cc2a421": {
     "views": []
    },
    "c0314284dbca45f48f7d2ea9383b3a03": {
     "views": []
    },
    "c05b636f72a745929fef674807e61cfa": {
     "views": []
    },
    "c091a270e0b74ffe8a7d2abd07d76675": {
     "views": []
    },
    "c0abd8c5b95a402a94ea4f60b00b30f4": {
     "views": []
    },
    "c0edfc71091c4331b095753150ca1e2e": {
     "views": []
    },
    "c14e6642f99d46b984e19c9b315dc028": {
     "views": []
    },
    "c19a154ee4df4c03a4404d2a4da9ca8a": {
     "views": []
    },
    "c1ae7b47f07a463b9ad966579cc10e9e": {
     "views": []
    },
    "c25c1f5e7eb644ce84388f2b669e46d7": {
     "views": []
    },
    "c28e1e23197e4618ab2a4b7607d8ad06": {
     "views": []
    },
    "c2eba84ca8b448889cc4042ef4efbd30": {
     "views": []
    },
    "c4b2134677314aa1ab861abfc10aea01": {
     "views": []
    },
    "c4ba5cc91c9549fe816ac25218b42a28": {
     "views": []
    },
    "c4bc0fa906834bd7972dce69e3007511": {
     "views": []
    },
    "c4e20cac5200415daba2897281360b70": {
     "views": []
    },
    "c593983325d146e48b29534b495c8fc3": {
     "views": []
    },
    "c594febfb4ef4e648ee66a619889e17d": {
     "views": []
    },
    "c5acd6b0239f4923b91cacac7f9f7a08": {
     "views": []
    },
    "c6250647bfe34cbd9e5570cade3cf9e4": {
     "views": []
    },
    "c6b16c090f184181b9a2ed99d9c201c2": {
     "views": []
    },
    "c6e952f175cb4295a2beaed33f43cd35": {
     "views": []
    },
    "c6f0d51edfb4413a9b2873f0fc06b4e6": {
     "views": []
    },
    "c75d4dbd12064b46a502c713a944d5f9": {
     "views": []
    },
    "c7745b02f41842ca9beea5047c02a38b": {
     "views": []
    },
    "c7756a29aa384c8a99dc26006f9a05a7": {
     "views": []
    },
    "c789a0a5962c41929bf6c2c1f6143c2e": {
     "views": []
    },
    "c80c4f0443e74f3ebc23028def9b2683": {
     "views": []
    },
    "c947939cc6e44600ad124e8e406d13b4": {
     "views": []
    },
    "c9ddb60fbf984f0a9d53c67c946818c6": {
     "views": []
    },
    "c9ec36a498694b23970e3ca33ddf50cb": {
     "views": []
    },
    "c9f474d7c877413f895b855db41a70a8": {
     "views": []
    },
    "ca26a3d7ad7040949ca540aa05367230": {
     "views": []
    },
    "ca385eef388a49f387462ec96f21fbca": {
     "views": []
    },
    "ca997dc57ea04252a1ddf638a0b3b681": {
     "views": []
    },
    "cabb21f5f7c149ffa69c3c1e52391332": {
     "views": []
    },
    "cacf12abe8e44b8ca46767f59f27ebc7": {
     "views": []
    },
    "cb6e16a81107498e9a5b27e1906a981f": {
     "views": []
    },
    "cba55aee05ff49039deab4ea8889ff8e": {
     "views": []
    },
    "cbc94458060647d6b0f073c7c45f7245": {
     "views": []
    },
    "cbfcdf0e21cc42d3a323c51bd4bdbceb": {
     "views": []
    },
    "cc157c33ccfb49358f4c8c327ba3d562": {
     "views": []
    },
    "cc45ea6a813b414a81da403fa52c90b9": {
     "views": []
    },
    "cc5c68b2e44346cf8e82317d63913eaa": {
     "views": []
    },
    "cc6f4bd852104cc3bcb2cf1514a78c13": {
     "views": []
    },
    "ccb31a23195a4d04816cfbdbadfe5f3f": {
     "views": []
    },
    "cd1c6e2feafb4617b1d3b8512b511978": {
     "views": []
    },
    "cd45937a9c754458817cf2214567efcb": {
     "views": []
    },
    "cd9a4ac57a0f49a0b02a9b41790a3301": {
     "views": []
    },
    "ce026c57d777440bbda008bd7632687e": {
     "views": []
    },
    "ce1bb2d2a568459981b8a891a4e462df": {
     "views": []
    },
    "ce2093155bb3438fbdaaa38bd220738b": {
     "views": []
    },
    "cf4847a74bec4f8f8ccc6905cdaf2869": {
     "views": []
    },
    "d06696dbd1f140b7b5f3fed16e7bf142": {
     "views": []
    },
    "d070db28257b4a22b5e72f204e95a08b": {
     "views": []
    },
    "d0a8b6a23e374a8c98e58804bf0a4109": {
     "views": []
    },
    "d0de84163bab40e89b1425a2dac49278": {
     "views": []
    },
    "d26d1bbabffd459ab9e24de70589ff65": {
     "views": []
    },
    "d336c072e6324019a732cd6af49e71ec": {
     "views": []
    },
    "d3497255ce354e40935fd86cc66f29d1": {
     "views": []
    },
    "d3b2cc5241264c67a9fbc6ea660ac232": {
     "views": []
    },
    "d42c316aad214e939b3132d27f842c7a": {
     "views": []
    },
    "d44641346e5440de9259d35a2b07faef": {
     "views": []
    },
    "d44a351cd7c2414ab327940666c1201f": {
     "views": []
    },
    "d450b708f8b44076a3bd5808ad97427f": {
     "views": []
    },
    "d4546f2f8b9c400ebdcfd5c1b17798a6": {
     "views": []
    },
    "d482c0d740f14966baa50d4bdc2d87b6": {
     "views": []
    },
    "d48ad18240d246568960d8af51817e66": {
     "views": []
    },
    "d4d4741d12a24d938957f59199578793": {
     "views": []
    },
    "d4e0cc697dd34dc4ac4f470aa5070f87": {
     "views": []
    },
    "d50f3cf5eea7445192617ec563dc5fce": {
     "views": []
    },
    "d56326f00b054381bdf165ef28eed703": {
     "views": []
    },
    "d56c96952936402e912c739ee34f38b1": {
     "views": []
    },
    "d571a94a4ed44ccabc5c20a6a59e3507": {
     "views": []
    },
    "d5b02aa68a654a8faf87eb70d64bd9e5": {
     "views": []
    },
    "d5e98b378df84cfcb9130987fda44e90": {
     "views": []
    },
    "d5f3fa85e1f74fd0a57fa0c0121e55eb": {
     "views": []
    },
    "d6732be7f4be42ac80556b0f1b40f403": {
     "views": []
    },
    "d6d8349a45cd498d9a9cb3ab81fe2195": {
     "views": []
    },
    "d73be45e7ad44ffb9b5897052d1aad66": {
     "views": []
    },
    "d83287f6dbae4b709fe484572878286e": {
     "views": []
    },
    "d86cf13c82bf4049a09173bb2d532fb8": {
     "views": []
    },
    "d89b80e456034910aa1126b1c694c42c": {
     "views": []
    },
    "d94bc1c1c83441dba47da297511023d7": {
     "views": []
    },
    "da43d99ff34a4043ab9ec9361d681d31": {
     "views": []
    },
    "daafc14132df419496e75665e03ae056": {
     "views": [
      {
       "cell_index": 9
      }
     ]
    },
    "dbe92feb85744b5f9ae91ed4cfd0ed06": {
     "views": []
    },
    "dc78cbe1175f4867a5a67300053e05fc": {
     "views": []
    },
    "dc894fde2f484f749198ff797405e91b": {
     "views": []
    },
    "dcfde23e67a84c34b447d9e1a31b01cf": {
     "views": []
    },
    "dd099709ca2645d78b46fec8f9514029": {
     "views": []
    },
    "dd10b0da25a84867871c87c8200d0e45": {
     "views": []
    },
    "de330ca738384f5f92c767e9b47ef071": {
     "views": []
    },
    "de72cbf735924e9aa28cce3dd62fa487": {
     "views": []
    },
    "de7d996fe2314ed1bcee9cbb85b67a3d": {
     "views": []
    },
    "df05767e53914fca96ffbe070e5f2ca2": {
     "views": []
    },
    "df34f9b28ebe406b99e7e23ec7e1b4c8": {
     "views": []
    },
    "df448300780949049cb41d3db271c7b6": {
     "views": []
    },
    "dfbad1998c26456abdb23aa09293ed33": {
     "views": []
    },
    "e02ba314b16f4d4e8b283a01591689d2": {
     "views": []
    },
    "e099c816d0f64bbcbe2b46d479f30764": {
     "views": []
    },
    "e0b8e0ea1cc644dd9bd43a2c6aaabfb9": {
     "views": []
    },
    "e209f4207c1049be9f78eb8792673df1": {
     "views": []
    },
    "e21cecc4c9e447a1b472a869c4e7d936": {
     "views": []
    },
    "e23b9bdaca02409791fd49ef2442c222": {
     "views": []
    },
    "e2ca9343f5b54dd5abd8e190486f525e": {
     "views": []
    },
    "e2e7f0d098e841e8a4094c61f3463f20": {
     "views": []
    },
    "e38adc5c03b24e1385bf776b0c165264": {
     "views": []
    },
    "e3bd18403df247efbd1bd175bf22b527": {
     "views": []
    },
    "e3cad5fffbd44d72b86122e9b061d9af": {
     "views": []
    },
    "e42d58b25218484880493c53a70dd446": {
     "views": []
    },
    "e459ca76dcf147df841d6558779caba5": {
     "views": []
    },
    "e472fcf40ebb4a118f8c501c43db250a": {
     "views": []
    },
    "e4bab1d0e8f8471facab928c3af732f7": {
     "views": []
    },
    "e58127860fb642ff9fa28e857f1b5311": {
     "views": []
    },
    "e58dba7abd2c4bd5be2361c2b288e7bb": {
     "views": []
    },
    "e5a64e1461964f7caa9f88292421caf1": {
     "views": []
    },
    "e6098966fe554829ac54208eb0829fe4": {
     "views": []
    },
    "e6147d4baf9e4720bed2c94180c47d4a": {
     "views": []
    },
    "e63a11f559bc4b10b861b7a18084db98": {
     "views": []
    },
    "e665bcb29cac48afa6b1f18625c7b629": {
     "views": []
    },
    "e6ca6983fe4243099a8f1818e303ef48": {
     "views": []
    },
    "e77bd486942d43b8856b2dea1ea82756": {
     "views": []
    },
    "e7db5e46d11943619db62bd3d8f56ed8": {
     "views": []
    },
    "e84a4d5fc96f45f594088961664d9c96": {
     "views": []
    },
    "e87d5049e8e64cdfb0220740fc328b0c": {
     "views": []
    },
    "e9527629d9ec45ddad40b868e0c5445a": {
     "views": []
    },
    "ea041ca29843441b950d5e9c967fe6ee": {
     "views": []
    },
    "eaa78def6cf143dc94a30887a2e81256": {
     "views": []
    },
    "ebb1ab3cbc34475ab472043dd23e2b27": {
     "views": []
    },
    "ec2a5807b68743d5ac21e6e12ca2f862": {
     "views": []
    },
    "ec55514189e3405c98bb738b2adb07da": {
     "views": []
    },
    "ecad069df6d04f5ca391d77d2fb80eeb": {
     "views": []
    },
    "ecbf81c716b04829a1ac2a2a7df621c1": {
     "views": []
    },
    "ecc9b653056d41cf9d4573fb534f2a1e": {
     "views": []
    },
    "eceb5791d036470cb0ee1fbc1b36710b": {
     "views": []
    },
    "ed5747b62de14fbf9b2fbd1f7c3abc20": {
     "views": []
    },
    "eddf649e68494aba8eb7eba6a02a5850": {
     "views": []
    },
    "f02836c48f714e0c81f840d980b25e3a": {
     "views": []
    },
    "f0492fd9dbb743b882f888707afd94d6": {
     "views": []
    },
    "f04e6e5f9546429b926354ac52b49279": {
     "views": []
    },
    "f056f7d58a1b4e639dc8a7d467aa43ba": {
     "views": []
    },
    "f061ae3224fd468ea92232d12fd717fb": {
     "views": []
    },
    "f06e63d0deb149498bdc18754296f61e": {
     "views": []
    },
    "f0c0ccc64ac44d088ececdec5136aa59": {
     "views": []
    },
    "f1026ad060af4b9ab6a5f382c610a64b": {
     "views": []
    },
    "f1e81da161f443e69de69225537fec37": {
     "views": []
    },
    "f24df6b4b6244b55a3f131ca9be7ed79": {
     "views": []
    },
    "f34766967ecb40b6a1112b22f124a4e4": {
     "views": []
    },
    "f353e21892a040d2beb7f92c489382c0": {
     "views": []
    },
    "f381ea82049844c484b399b4cf40159e": {
     "views": []
    },
    "f454e227d3b34809a110f4b1c5d309db": {
     "views": []
    },
    "f46981fd0de14e79931ef02c74a23185": {
     "views": []
    },
    "f47410b3cace4ca68cff38de3970eff3": {
     "views": []
    },
    "f4b1b810873142ba9db1ee0e07854c4d": {
     "views": []
    },
    "f5e85e73e6574fd8a66780e83459f88d": {
     "views": []
    },
    "f612f55d71954ecaa043dfbf37c767b3": {
     "views": []
    },
    "f6162f39e168455c80940af269edf9de": {
     "views": []
    },
    "f65e5aa1812e46449835c0f11e0fb09e": {
     "views": []
    },
    "f6fab419b9064a8dad438d8b8a0bb4e2": {
     "views": []
    },
    "f73d925ec7e54fcd8f1e1c9dadf36835": {
     "views": []
    },
    "f82662122c2d4987968821e43b4e0e24": {
     "views": []
    },
    "f8493dcc8c2e45fe8f55e330af2a6058": {
     "views": []
    },
    "f954df5f443744e3b6f850dfb1c22c5e": {
     "views": []
    },
    "fad2023eceea4b9cb386b5ce7ff18ad9": {
     "views": []
    },
    "fae18f9f3a7c44b0bf9d44a87c68fbe3": {
     "views": []
    },
    "fb8a571be1084159bdbf73027cf6543c": {
     "views": []
    },
    "fbb7df609ce94fc98c6043ad7e1eb371": {
     "views": []
    },
    "fbf392f705f745a2946dd159d04d9101": {
     "views": []
    },
    "fc0848b8bb3d423681030637e0cd698a": {
     "views": []
    },
    "fc5d66443e2349be8f6c2cceb6a29aef": {
     "views": []
    },
    "fcea6f63788e456597cf72e015f54aa0": {
     "views": []
    },
    "fd00fed55b044a91886c4b1cd02de45a": {
     "views": []
    },
    "fd2610e2d25542d8a423334d648330f8": {
     "views": []
    },
    "fd6520e2a346421eadd924a00f043e47": {
     "views": []
    },
    "ff21ede3496b4c3ba9ec429cac5ee3a2": {
     "views": []
    }
   },
   "version": "1.1.2"
  }
 },
 "nbformat": 4,
 "nbformat_minor": 1
}
